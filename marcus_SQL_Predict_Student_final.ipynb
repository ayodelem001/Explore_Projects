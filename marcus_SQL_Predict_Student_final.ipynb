{
 "cells": [
  {
   "cell_type": "markdown",
   "metadata": {
    "id": "kJ9OEzDBgwvw"
   },
   "source": [
    "# SQL 4 Data Science: Predict Project\n",
    "## Bhejane Online Trading Store\n",
    "\n",
    "### Student Starter Notebook\n",
    "\n",
    "© Explore Data Science Academy\n",
    "\n",
    "### Honour Code\n",
    "\n",
    "I {**AYODELE**, **MARCUS**}, confirm - by submitting this document - that the solutions in this notebook are a result of my own work and that I abide by the EDSA honour code (https://drive.google.com/file/d/1QDCjGZJ8-FmJE3bZdIQNwnJyQKPhHZBn/view?usp=sharing).\n",
    "\n",
    "Non-compliance with the honour code constitutes a material breach of contract."
   ]
  },
  {
   "cell_type": "markdown",
   "metadata": {
    "id": "p40FILKTgwvy"
   },
   "source": [
    "<a id='Context'></a>\n",
    "### 1. Context\n",
    "\n",
    "The Bhejane trading store is an online retailer specialising in Covid essential items. The store has recently been struggling with the management of its database-related inventory system. Luckily for them, you've been hired as a consultant to fix the problem. \n",
    "\n",
    "Its time to flex your Ninja SQL skills! \n",
    " \n",
    "**Your mission, should you choose to accept it:**\n",
    "\n",
    "You will receive a denormalised database consisting of two tables. Your task is to transform the database such that is in third normal form (3NF). To ensure that a consistent normalisation process is followed by each student, we have attached an Entity Relationship Diagram (ERD) which is a guideline on what tables need to be produced. Once you have normalised the database, you will be required to complete an MCQ test found under the 'Predict' tab of Athena.  \n",
    "\n",
    "Though the normalisation process, you will be guided into acknowledging client (Bhenjane Trading) use-cases for the database, and dealing with data anomalies in SQL. "
   ]
  },
  {
   "cell_type": "markdown",
   "metadata": {},
   "source": [
    "![Bhejane company logo](https://raw.githubusercontent.com/Explore-AI/Pictures/master/SQL4DS/SQL_Predict/Bhejane.png)"
   ]
  },
  {
   "cell_type": "markdown",
   "metadata": {},
   "source": [
    "<div align=\"center\" >\n",
    "    Bhejane, or the Black Rhino. Image by <a href=\"https://commons.wikimedia.org/wiki/File:Black_Rhino_(Diceros_bicornis)_browsing_..._(46584052962).jpg\">Wikimedia Commons</a>\n",
    "</div>"
   ]
  },
  {
   "cell_type": "markdown",
   "metadata": {
    "id": "4hrluJ8Fgwvz"
   },
   "source": [
    "<a id='Imports'></a>\n",
    "### 2. Imports\n",
    "Please use the below command to install sql_magic, this is the package that will assist you with SQL syntax hightlighting.\n",
    "* pip install sql_magic\n",
    "\n",
    "Remember to start each new cell with \" %%read_sql \""
   ]
  },
  {
   "cell_type": "code",
   "execution_count": 38,
   "metadata": {},
   "outputs": [],
   "source": [
    "%load_ext sql"
   ]
  },
  {
   "cell_type": "code",
   "execution_count": 39,
   "metadata": {},
   "outputs": [],
   "source": [
    "%%sql \n",
    "\n",
    "sqlite:///bhejane.db"
   ]
  },
  {
   "cell_type": "markdown",
   "metadata": {
    "id": "tI8p4seXgwv3"
   },
   "source": [
    "<a id='Data_description'></a>\n",
    "### 3. Data description\n",
    "\n",
    "The original database consist of 2 tables. \n",
    "* Product Table\n",
    "* Transaction Table\n",
    "\n",
    "The `Product` table consists of the stock of all inventory that Bhejane has on hand currently, or has had on hand historically. Items which are in this table are able to be purchased, and a record of all sales (transactions) in 2020 is notorised in the `Transactions` table. To link the tables - the `barcode` can be used. Any item in the `Transactions` table, must therefore appear in the `Products` table. "
   ]
  },
  {
   "cell_type": "code",
   "execution_count": 40,
   "metadata": {
    "id": "oTb59N4Dgwv4",
    "outputId": "694a9594-2141-47a1-ad6e-f85c2571c355"
   },
   "outputs": [
    {
     "data": {
      "text/html": [
       "<div>\n",
       "<style scoped>\n",
       "    .dataframe tbody tr th:only-of-type {\n",
       "        vertical-align: middle;\n",
       "    }\n",
       "\n",
       "    .dataframe tbody tr th {\n",
       "        vertical-align: top;\n",
       "    }\n",
       "\n",
       "    .dataframe thead th {\n",
       "        text-align: right;\n",
       "    }\n",
       "</style>\n",
       "<table border=\"1\" class=\"dataframe\">\n",
       "  <thead>\n",
       "    <tr style=\"text-align: right;\">\n",
       "      <th></th>\n",
       "      <th>Table Name</th>\n",
       "      <th>Column Name</th>\n",
       "      <th>Desciption</th>\n",
       "    </tr>\n",
       "  </thead>\n",
       "  <tbody>\n",
       "    <tr>\n",
       "      <th>0</th>\n",
       "      <td>Products</td>\n",
       "      <td>Width</td>\n",
       "      <td>Width of the product once assembled</td>\n",
       "    </tr>\n",
       "    <tr>\n",
       "      <th>1</th>\n",
       "      <td>Products</td>\n",
       "      <td>Length</td>\n",
       "      <td>Length of the product once assembled</td>\n",
       "    </tr>\n",
       "    <tr>\n",
       "      <th>2</th>\n",
       "      <td>Products</td>\n",
       "      <td>Height</td>\n",
       "      <td>Height of the product once assembled</td>\n",
       "    </tr>\n",
       "    <tr>\n",
       "      <th>3</th>\n",
       "      <td>Products</td>\n",
       "      <td>Barcode</td>\n",
       "      <td>The unique product identifier</td>\n",
       "    </tr>\n",
       "    <tr>\n",
       "      <th>4</th>\n",
       "      <td>Products</td>\n",
       "      <td>Quantity</td>\n",
       "      <td>Number of goods in stock</td>\n",
       "    </tr>\n",
       "    <tr>\n",
       "      <th>5</th>\n",
       "      <td>Products</td>\n",
       "      <td>Brand</td>\n",
       "      <td>Product brand name relating to product company</td>\n",
       "    </tr>\n",
       "    <tr>\n",
       "      <th>6</th>\n",
       "      <td>Products</td>\n",
       "      <td>NavigationPath</td>\n",
       "      <td>Navigation path to specific product</td>\n",
       "    </tr>\n",
       "    <tr>\n",
       "      <th>7</th>\n",
       "      <td>Products</td>\n",
       "      <td>Colour</td>\n",
       "      <td>Name default colour for the product</td>\n",
       "    </tr>\n",
       "    <tr>\n",
       "      <th>8</th>\n",
       "      <td>Products</td>\n",
       "      <td>StockCountry</td>\n",
       "      <td>Country where the stock was bought from</td>\n",
       "    </tr>\n",
       "    <tr>\n",
       "      <th>9</th>\n",
       "      <td>Products</td>\n",
       "      <td>ProductDescription</td>\n",
       "      <td>Descriptive product name</td>\n",
       "    </tr>\n",
       "    <tr>\n",
       "      <th>10</th>\n",
       "      <td>Products</td>\n",
       "      <td>PackType</td>\n",
       "      <td>The way in which the product is packaged</td>\n",
       "    </tr>\n",
       "    <tr>\n",
       "      <th>11</th>\n",
       "      <td>Products</td>\n",
       "      <td>Volume_litre</td>\n",
       "      <td>The quantity of liquid based products</td>\n",
       "    </tr>\n",
       "    <tr>\n",
       "      <th>12</th>\n",
       "      <td>Products</td>\n",
       "      <td>Warranty</td>\n",
       "      <td>Product warranty type</td>\n",
       "    </tr>\n",
       "    <tr>\n",
       "      <th>13</th>\n",
       "      <td>Products</td>\n",
       "      <td>Weight_kg</td>\n",
       "      <td>Weight of the product</td>\n",
       "    </tr>\n",
       "    <tr>\n",
       "      <th>14</th>\n",
       "      <td>Products</td>\n",
       "      <td>ItemDescription</td>\n",
       "      <td>Description of contents of the package</td>\n",
       "    </tr>\n",
       "    <tr>\n",
       "      <th>15</th>\n",
       "      <td>Products</td>\n",
       "      <td>Price</td>\n",
       "      <td>The cost of the product in Rands</td>\n",
       "    </tr>\n",
       "    <tr>\n",
       "      <th>16</th>\n",
       "      <td>Transactions</td>\n",
       "      <td>CartID</td>\n",
       "      <td>Identifies an individual basket from a user pu...</td>\n",
       "    </tr>\n",
       "    <tr>\n",
       "      <th>17</th>\n",
       "      <td>Transactions</td>\n",
       "      <td>Barcode</td>\n",
       "      <td>Barcode for item that user purchased</td>\n",
       "    </tr>\n",
       "    <tr>\n",
       "      <th>18</th>\n",
       "      <td>Transactions</td>\n",
       "      <td>Total</td>\n",
       "      <td>Total value of a transaction</td>\n",
       "    </tr>\n",
       "    <tr>\n",
       "      <th>19</th>\n",
       "      <td>Transactions</td>\n",
       "      <td>UserName</td>\n",
       "      <td>Name of customer purchasing stock</td>\n",
       "    </tr>\n",
       "    <tr>\n",
       "      <th>20</th>\n",
       "      <td>Transactions</td>\n",
       "      <td>InvoiceDate</td>\n",
       "      <td>Date on which the product was bought</td>\n",
       "    </tr>\n",
       "  </tbody>\n",
       "</table>\n",
       "</div>"
      ],
      "text/plain": [
       "      Table Name         Column Name  \\\n",
       "0       Products               Width   \n",
       "1       Products              Length   \n",
       "2       Products              Height   \n",
       "3       Products             Barcode   \n",
       "4       Products            Quantity   \n",
       "5       Products               Brand   \n",
       "6       Products      NavigationPath   \n",
       "7       Products              Colour   \n",
       "8       Products        StockCountry   \n",
       "9       Products  ProductDescription   \n",
       "10      Products            PackType   \n",
       "11      Products        Volume_litre   \n",
       "12      Products            Warranty   \n",
       "13      Products           Weight_kg   \n",
       "14      Products     ItemDescription   \n",
       "15      Products               Price   \n",
       "16  Transactions              CartID   \n",
       "17  Transactions             Barcode   \n",
       "18  Transactions               Total   \n",
       "19  Transactions            UserName   \n",
       "20  Transactions         InvoiceDate   \n",
       "\n",
       "                                          Desciption   \n",
       "0                 Width of the product once assembled  \n",
       "1                Length of the product once assembled  \n",
       "2                Height of the product once assembled  \n",
       "3                      The unique product identifier   \n",
       "4                            Number of goods in stock  \n",
       "5      Product brand name relating to product company  \n",
       "6                 Navigation path to specific product  \n",
       "7                 Name default colour for the product  \n",
       "8             Country where the stock was bought from  \n",
       "9                            Descriptive product name  \n",
       "10           The way in which the product is packaged  \n",
       "11              The quantity of liquid based products  \n",
       "12                              Product warranty type  \n",
       "13                              Weight of the product  \n",
       "14            Description of contents of the package   \n",
       "15                   The cost of the product in Rands  \n",
       "16  Identifies an individual basket from a user pu...  \n",
       "17               Barcode for item that user purchased  \n",
       "18                      Total value of a transaction   \n",
       "19                  Name of customer purchasing stock  \n",
       "20               Date on which the product was bought  "
      ]
     },
     "execution_count": 40,
     "metadata": {},
     "output_type": "execute_result"
    }
   ],
   "source": [
    "# DO NOT EDIT THIS CELL\n",
    "import pandas as pd\n",
    "data_description = pd.read_excel('Data Description.xlsx')\n",
    "data_description"
   ]
  },
  {
   "cell_type": "markdown",
   "metadata": {
    "id": "bZd01SEagwv7"
   },
   "source": [
    "<a id='Setting_up'></a>\n",
    "### 4. Setting up the database"
   ]
  },
  {
   "cell_type": "markdown",
   "metadata": {
    "id": "G-WGBpmDgwv-"
   },
   "source": [
    "#### Creating both Products and Transaction Tables"
   ]
  },
  {
   "cell_type": "code",
   "execution_count": 42,
   "metadata": {
    "id": "qp-DQik7gwv-",
    "outputId": "16d1c6b9-fd74-40b1-c8a9-11807656b122"
   },
   "outputs": [
    {
     "name": "stdout",
     "output_type": "stream",
     "text": [
      " * sqlite:///bhejane.db\n",
      "Done.\n",
      "Done.\n",
      "Done.\n",
      "Done.\n"
     ]
    },
    {
     "data": {
      "text/plain": [
       "[]"
      ]
     },
     "execution_count": 42,
     "metadata": {},
     "output_type": "execute_result"
    }
   ],
   "source": [
    "%%sql\n",
    "--DO NOT EDIT THIS CELL\n",
    "DROP TABLE IF EXISTS \"Products\";\n",
    "DROP TABLE IF EXISTS \"Transactions\";\n",
    "\n",
    "CREATE TABLE \"Products\" (\n",
    "    \"Width\"   REAL,\n",
    "    \"Length\"  REAL,\n",
    "    \"Height\"  REAL,\n",
    "    \"Barcode\" VARCHAR(150),\n",
    "    \"Quantity\" REAL,\n",
    "    \"Brand\" VARCHAR(150), \n",
    "    \"NavigationPath\" VARCHAR(150),\n",
    "    \"Colour\" VARCHAR(150),\n",
    "    \"StockCountry\" VARCHAR(150),\n",
    "    \"ProductDescription\" VARCHAR(150),\n",
    "    \"PackType\" VARCHAR(150), \n",
    "    \"Volume_litre\" REAL, \n",
    "    \"Warranty\" VARCHAR(150), \n",
    "    \"Weight_kg\" REAL,\n",
    "    \"ItemDescription\" VARCHAR(150), \n",
    "    \"Price\" REAL\n",
    ");\n",
    "\n",
    "\n",
    "CREATE TABLE \"Transactions\" (\n",
    "    \"CartID\" INTEGER,\n",
    "    \"Barcode\" VARCHAR(150), \n",
    "    \"Total\" REAL,\n",
    "    \"UserName\" VARCHAR(150), \n",
    "    \"InvoiceDate\" DATETIME\n",
    ");"
   ]
  },
  {
   "cell_type": "markdown",
   "metadata": {
    "id": "m3W5ah4PgwwG"
   },
   "source": [
    "#### Load Data into Product and Transaction tables\n",
    "\n",
    "Although we have not yet covered python in the sprint at EXPLORE - you have additional resources at your disposal, one of which happens to be a data engineering expert, and she has created a brief script for you which can be used to extract the data from the csv files, and load it into a sqlite database. \n",
    "\n",
    "This will be included in your submission, so that the end-to-end processing of the data is visible, and repeatable for any additional consultants who may be brought on board at a later stage. \n"
   ]
  },
  {
   "cell_type": "code",
   "execution_count": 47,
   "metadata": {
    "id": "VW_oEkizgwwH"
   },
   "outputs": [],
   "source": [
    "import csv\n",
    "\n",
    "# Load data into 'Products' table\n",
    "product_data = []\n",
    "with open('bhejane_covid_essentials_Products.csv', 'r') as fin:\n",
    "    dr = csv.DictReader(fin)\n",
    "    for row in dr:\n",
    "        product_data.append((\n",
    "            row['Width'],\n",
    "            row['Length'],\n",
    "            row['Height'],\n",
    "            row['Barcode'],\n",
    "            row['Quantity'],\n",
    "            row['Brand'],\n",
    "            row['NavigationPath'],\n",
    "            row['Colour'],\n",
    "            row['StockCountry'],\n",
    "            row['ProductDescription'],\n",
    "            row['PackType'],\n",
    "            row['Volume_litre'],\n",
    "            row['Warranty'],\n",
    "            row['Weight_kg'],\n",
    "            row['ItemDescription'],\n",
    "            row['Price']\n",
    "        ))\n",
    "\n",
    "# Now 'product_data' is a list of tuples containing the data from the 'bhejane_covid_essentials_Products.csv' file.\n",
    "\n",
    "# Load data into 'Transactions' table\n",
    "transaction_data = []\n",
    "with open('bhejane_covid_essentials_Transactions.csv', 'r') as fin:\n",
    "    dr = csv.DictReader(fin)\n",
    "    for row in dr:\n",
    "        transaction_data.append((\n",
    "            row['CartID'],\n",
    "            row['Barcode'],\n",
    "            row['Total'],\n",
    "            row['UserName'],\n",
    "            row['InvoiceDate']\n",
    "        ))\n",
    "\n",
    "# Now 'transaction_data' is a list of tuples containing the data from the 'bhejane_covid_essentials_Transactions.csv' file.\n"
   ]
  },
  {
   "cell_type": "code",
   "execution_count": 48,
   "metadata": {},
   "outputs": [],
   "source": [
    "import sqlite3\n",
    "\n",
    "# Connect to the SQLite database\n",
    "conn = sqlite3.connect('bhejane.db')\n",
    "cursor = conn.cursor()\n",
    "\n",
    "# Insert data into 'Products' table\n",
    "cursor.executemany(\"\"\"\n",
    "    INSERT INTO Products (Width, Length, Height, Barcode, Quantity, Brand, NavigationPath, Colour, StockCountry, ProductDescription, PackType, Volume_litre, Warranty, Weight_kg, ItemDescription, Price) \n",
    "    VALUES (?, ?, ?, ?, ?, ?, ?, ?, ?, ?, ?, ?, ?, ?, ?, ?);\n",
    "\"\"\", product_data)\n",
    "\n",
    "# Insert data into 'Transactions' table\n",
    "cursor.executemany(\"\"\"\n",
    "    INSERT INTO Transactions (CartID, Barcode, Total, UserName, InvoiceDate) \n",
    "    VALUES (?, ?, ?, ?, ?);\n",
    "\"\"\", transaction_data)\n",
    "\n",
    "# Commit the changes and close the connection\n",
    "conn.commit()\n",
    "conn.close()"
   ]
  },
  {
   "cell_type": "markdown",
   "metadata": {
    "id": "uo9PWlZtgwwO"
   },
   "source": [
    "<a id='ERD'></a>\n",
    "### 5. Denormalized Database Tables\n",
    "\n",
    "<br>\n",
    "\n",
    "<img src=\"https://raw.githubusercontent.com/Explore-AI/Pictures/master/SQL4DS/SQL_Predict/Denormalized_Tables.png\" alt=\"Denormalized Tables\" border=\"0\">"
   ]
  },
  {
   "cell_type": "markdown",
   "metadata": {},
   "source": [
    "#### 5.1 Explore the Denormalized Tables\n",
    "Familiarize yourself with the data given in the two tables by writing your own SQL queries to explore properties of the dataset.i.e Look for data inconsistencies, anormalies, redundancies etc to guide your normalization process. \n",
    "\n",
    "This section will not be graded - think of it as your own scratch pad.\n",
    "\n"
   ]
  },
  {
   "cell_type": "code",
   "execution_count": 50,
   "metadata": {},
   "outputs": [
    {
     "name": "stdout",
     "output_type": "stream",
     "text": [
      " * sqlite:///bhejane.db\n",
      "Done.\n"
     ]
    },
    {
     "data": {
      "text/html": [
       "<table>\n",
       "    <tr>\n",
       "        <th>Width</th>\n",
       "        <th>Length</th>\n",
       "        <th>Height</th>\n",
       "        <th>Barcode</th>\n",
       "        <th>Quantity</th>\n",
       "        <th>Brand</th>\n",
       "        <th>NavigationPath</th>\n",
       "        <th>Colour</th>\n",
       "        <th>StockCountry</th>\n",
       "        <th>ProductDescription</th>\n",
       "        <th>PackType</th>\n",
       "        <th>Volume_litre</th>\n",
       "        <th>Warranty</th>\n",
       "        <th>Weight_kg</th>\n",
       "        <th>ItemDescription</th>\n",
       "        <th>Price</th>\n",
       "    </tr>\n",
       "    <tr>\n",
       "        <td></td>\n",
       "        <td></td>\n",
       "        <td></td>\n",
       "        <td>300507946</td>\n",
       "        <td>493.0</td>\n",
       "        <td>Hikvision</td>\n",
       "        <td>Computers &amp; Tablets / Smart Home &amp; Connected Living / Home Security / Security Cameras</td>\n",
       "        <td></td>\n",
       "        <td></td>\n",
       "        <td>Hikvision 1080P 2MP Turbo HD IR Bullet Camera</td>\n",
       "        <td></td>\n",
       "        <td>0.0</td>\n",
       "        <td>Limited (6 months)</td>\n",
       "        <td></td>\n",
       "        <td>1 x Hikvision 1080P Bullet camera</td>\n",
       "        <td>399.0</td>\n",
       "    </tr>\n",
       "    <tr>\n",
       "        <td></td>\n",
       "        <td></td>\n",
       "        <td></td>\n",
       "        <td>300507946</td>\n",
       "        <td>493.0</td>\n",
       "        <td>Hikvision</td>\n",
       "        <td>Computers &amp; Tablets / Smart Home &amp; Connected Living / Home Security / Security Cameras</td>\n",
       "        <td></td>\n",
       "        <td></td>\n",
       "        <td>Hikvision 1080P 2MP Turbo HD IR Bullet Camera</td>\n",
       "        <td></td>\n",
       "        <td>0.0</td>\n",
       "        <td>Limited (6 months)</td>\n",
       "        <td></td>\n",
       "        <td>Manual</td>\n",
       "        <td>399.0</td>\n",
       "    </tr>\n",
       "</table>"
      ],
      "text/plain": [
       "[('', '', '', '300507946', 493.0, 'Hikvision', 'Computers & Tablets / Smart Home & Connected Living / Home Security / Security Cameras', '', '', 'Hikvision 1080P 2MP Turbo HD IR Bullet Camera', '', 0.0, 'Limited (6 months)', '', '1 x Hikvision 1080P Bullet camera', 399.0),\n",
       " ('', '', '', '300507946', 493.0, 'Hikvision', 'Computers & Tablets / Smart Home & Connected Living / Home Security / Security Cameras', '', '', 'Hikvision 1080P 2MP Turbo HD IR Bullet Camera', '', 0.0, 'Limited (6 months)', '', 'Manual', 399.0)]"
      ]
     },
     "execution_count": 50,
     "metadata": {},
     "output_type": "execute_result"
    }
   ],
   "source": [
    "%%sql\n",
    "-- #Use this section to explore the database by writing your own queries\n",
    "SELECT * FROM Products\n",
    "LIMIT 2;"
   ]
  },
  {
   "cell_type": "markdown",
   "metadata": {},
   "source": [
    "### 6. Normalize the given Database tables to the 1st Normal Form (1NF)\n",
    "\n",
    "Given the below below target ERD create new tables such the the database conforms to the 1st Normal Form\n",
    "\n",
    "![1st Normal Form](https://raw.githubusercontent.com/Explore-AI/Pictures/master/SQL4DS/SQL_Predict/1stNF.png)\n",
    "\n",
    "\n",
    "It is suggested that you create all your tables before attempting to populate them with data, this will help reduce errors that might creep up due to logical dependencies."
   ]
  },
  {
   "cell_type": "markdown",
   "metadata": {},
   "source": [
    "#### 6.1 Create the tables required for the 1st Normal Form\n",
    "Use the above ERD sketch to create the required tables. Please label your tables as they appear in the ERD sketch"
   ]
  },
  {
   "cell_type": "code",
   "execution_count": 51,
   "metadata": {},
   "outputs": [
    {
     "name": "stdout",
     "output_type": "stream",
     "text": [
      " * sqlite:///bhejane.db\n",
      "Done.\n",
      "Done.\n",
      "Done.\n",
      "Done.\n"
     ]
    },
    {
     "data": {
      "text/plain": [
       "[]"
      ]
     },
     "execution_count": 51,
     "metadata": {},
     "output_type": "execute_result"
    }
   ],
   "source": [
    "%%sql\n",
    "--#Create tables required for 1NF\n",
    "DROP TABLE IF EXISTS \"Products_1NF\";\n",
    "DROP TABLE IF EXISTS \"Transactions_1NF\";\n",
    "\n",
    "CREATE TABLE \"Products_1NF\"(\n",
    "    \"Barcode\" VARCHAR(150),\n",
    "    \"NavigationPath\" VARCHAR(150),\n",
    "    \"ItemDescription\" VARCHAR(150),\n",
    "    \"Colour\" VARCHAR(150),\n",
    "    \"ProductDescription\" VARCHAR(150) NOT NULL,\n",
    "    \"Brand\" VARCHAR(150),\n",
    "    \"Price\" REAL NOT NULL,\n",
    "    \"Quantity\" INTEGER NOT NULL,\n",
    "    \"PackType\" VARCHAR(150),\n",
    "    \"Warranty\" VARCHAR(150),\n",
    "    \"StockCountry\" VARCHAR(150),\n",
    "    \"Weight_kg\" REAL,\n",
    "    \"Volume_litre\" REAL,\n",
    "    \"Length\" REAL,\n",
    "    \"Width\" REAL,\n",
    "    \"Height\" REAL,\n",
    "    PRIMARY KEY(\"Barcode\",\"NavigationPath\",\"ItemDescription\")\n",
    ");\n",
    "\n",
    "CREATE TABLE \"Transactions_1NF\" (\n",
    "    \"CartID\" INTEGER NOT NULL,\n",
    "    \"Barcode\" VARCHAR(150) NOT NULL,\n",
    "    \"UserName\" VARCHAR(150) NOT NULL,\n",
    "    \"InvoiceDate\" DATETIME NOT NULL,\n",
    "    \"Total\" REAL NOT NULL,\n",
    "    FOREIGN KEY (\"Barcode\") REFERENCES \"Products_1NF\" (\"Barcode\"),\n",
    "    PRIMARY KEY(\"CartID\", \"Barcode\", \"UserName\")\n",
    ");"
   ]
  },
  {
   "cell_type": "markdown",
   "metadata": {},
   "source": [
    "#### 6.2 Populate the tables you have create in the above section.\n",
    "\n",
    "Populate the tables such that the database conforms to the 1st Normal Form"
   ]
  },
  {
   "cell_type": "code",
   "execution_count": 52,
   "metadata": {},
   "outputs": [
    {
     "name": "stdout",
     "output_type": "stream",
     "text": [
      " * sqlite:///bhejane.db\n",
      "Done.\n",
      "0 rows affected.\n",
      "1162 rows affected.\n",
      "278 rows affected.\n"
     ]
    },
    {
     "data": {
      "text/plain": [
       "[]"
      ]
     },
     "execution_count": 52,
     "metadata": {},
     "output_type": "execute_result"
    }
   ],
   "source": [
    "%%sql\n",
    "--#Populate the 1NF tables\n",
    "DELETE FROM \"Products_1NF\";\n",
    "DELETE FROM \"Transactions_1NF\";\n",
    "\n",
    "INSERT INTO \"Products_1NF\" (\"Barcode\",\"NavigationPath\",\"ItemDescription\",\"Colour\",\"ProductDescription\",\"Brand\",\n",
    "                            \"Price\",\"Quantity\",\"PackType\",\"Warranty\",\"StockCountry\",\"Weight_kg\",\n",
    "                            \"Volume_litre\",\"Length\",\"Width\",\"Height\")\n",
    "SELECT DISTINCT\n",
    "     Barcode\n",
    "    ,NavigationPath\n",
    "    ,ItemDescription\n",
    "    ,Colour\n",
    "    ,ProductDescription\n",
    "    ,Brand\n",
    "    ,Price\n",
    "    ,Quantity\n",
    "    ,PackType\n",
    "    ,Warranty\n",
    "    ,StockCountry\n",
    "    ,Weight_kg\n",
    "    ,Volume_litre\n",
    "    ,Length\n",
    "    ,Width\n",
    "    ,Height \n",
    "FROM \n",
    "    Products;\n",
    "\n",
    "INSERT INTO \"Transactions_1NF\"(\"CartID\",\"Barcode\",\"UserName\",\"InvoiceDate\",\"Total\")\n",
    "SELECT DISTINCT \n",
    "    CartID\n",
    "    ,Barcode\n",
    "    ,UserName\n",
    "    ,InvoiceDate\n",
    "    ,Total\n",
    "FROM\n",
    "    Transactions;\n",
    "    "
   ]
  },
  {
   "cell_type": "markdown",
   "metadata": {},
   "source": [
    "###  7. Convert the database into its 2nd Normal Form (2NF).\n",
    "\n",
    "Please label your tables as they appear in the ERD sketch.\n",
    "\n",
    "#### 7.1 Entity Relationship Diagram\n",
    "\n",
    "![2nd Normal Form](https://raw.githubusercontent.com/Explore-AI/Pictures/master/SQL4DS/SQL_Predict/2ndNF.png)\n",
    "\n",
    "#### 7.2 2NF Requirements\n",
    "To transition from 1NF to 2NF, we need all columns in all tables to not have a partial dependancy on the PK of the table. This means that any tables which have a composite key e.g. `PRIMARY KEY(\"Barcode\",\"NavigationPath\",\"ItemDescription\")` cannot have columns in the table which are dependant on only `Barcode`, `NavigationPath`, or `ItemDescription`. \n",
    "\n",
    "In moving to 2NF we will seperate out each of these as a primary key (for their own respective tables), and any columns dependant on one of these columns but not the others, will go into that table. The only columns remaining in the tables will be fully functionally dependant on the primary key of the table. For example, \n",
    "\n",
    "Thereby, we remove the partial dependancy, and will be in 2NF. We are instructed to create a unique identifier for the `Transactions_2NF`. \n",
    "\n",
    "**Second normal form notes**\n",
    "\n",
    "<br>$\\bullet$ Notice that `Total` is only dependant on `CartID` and not on `<CartID,barcode>`. This is a partial dependancy\n",
    "<br>$\\bullet$ Second normal form required no *partial functional dependancy* on the key. \n",
    "<br>$\\bullet$ This can be achieved in 2 ways: create a unique identifier per row (so that there is a simple primary key), or break the table up into only the columns which are fully dependant on the composite key. \n",
    "<br>$\\bullet$ We are going to opt for the easier solution, and create a unique simple primary key on the `Transactions_1NF`. We can create a unique primary key by concatenating `CartID||barcode`\n",
    "<br>$\\bullet$ NB - this approach does make it more challenging to get into 3NF! Which would be a good argument to opt for the latter approach. "
   ]
  },
  {
   "cell_type": "markdown",
   "metadata": {},
   "source": [
    "#### 7.3 Data Anomalies\n",
    "\n",
    "You may stumble into an error when you insert the data which violates this constraint. You query this with the data owner, and you are told that there are three transactions in the database which were errors. You are informed that *all transactions in the database correspond to products are in the database*.\n",
    "\n",
    "These entries were captured incorrectly, and must be removed. How will you deal with this? "
   ]
  },
  {
   "cell_type": "code",
   "execution_count": 53,
   "metadata": {},
   "outputs": [
    {
     "name": "stdout",
     "output_type": "stream",
     "text": [
      " * sqlite:///bhejane.db\n",
      "Done.\n"
     ]
    },
    {
     "data": {
      "text/html": [
       "<table>\n",
       "    <tr>\n",
       "        <th>count(distinct barcode)</th>\n",
       "    </tr>\n",
       "    <tr>\n",
       "        <td>2</td>\n",
       "    </tr>\n",
       "</table>"
      ],
      "text/plain": [
       "[(2,)]"
      ]
     },
     "execution_count": 53,
     "metadata": {},
     "output_type": "execute_result"
    }
   ],
   "source": [
    "%%sql\n",
    "select count(distinct barcode) from Transactions_1NF where barcode not in (select barcode from products_1NF)"
   ]
  },
  {
   "cell_type": "markdown",
   "metadata": {},
   "source": [
    "### <font color='turquoise'>Action: remove the affected entries with a `delete` query </font>"
   ]
  },
  {
   "cell_type": "code",
   "execution_count": 55,
   "metadata": {},
   "outputs": [
    {
     "name": "stdout",
     "output_type": "stream",
     "text": [
      " * sqlite:///bhejane.db\n",
      "3 rows affected.\n"
     ]
    },
    {
     "data": {
      "text/plain": [
       "[]"
      ]
     },
     "execution_count": 55,
     "metadata": {},
     "output_type": "execute_result"
    }
   ],
   "source": [
    "%%sql\n",
    "delete from Transactions_1NF where barcode not in(select barcode from products_1NF)"
   ]
  },
  {
   "cell_type": "code",
   "execution_count": 56,
   "metadata": {},
   "outputs": [
    {
     "name": "stdout",
     "output_type": "stream",
     "text": [
      " * sqlite:///bhejane.db\n",
      "Done.\n"
     ]
    },
    {
     "data": {
      "text/html": [
       "<table>\n",
       "    <tr>\n",
       "        <th>count(distinct barcode)</th>\n",
       "    </tr>\n",
       "    <tr>\n",
       "        <td>0</td>\n",
       "    </tr>\n",
       "</table>"
      ],
      "text/plain": [
       "[(0,)]"
      ]
     },
     "execution_count": 56,
     "metadata": {},
     "output_type": "execute_result"
    }
   ],
   "source": [
    "%%sql\n",
    "-- Should show no entries!\n",
    "select count(distinct barcode) from Transactions_1NF where barcode not in (select barcode from products_1NF)"
   ]
  },
  {
   "cell_type": "markdown",
   "metadata": {},
   "source": [
    "#### 7.4 FK Requirements\n",
    "\n",
    "_Note: sqlite does not always enforce foreign key constraints (and it is even more inconsistent with magic commands to enforce FK constraints!), so it is critical that you understand the purpose of the foreign key constraint and therefore are able to enforce the FK constraint yourself!_\n",
    "\n",
    "To enforce data integrity, and to ensure that strange things cannot happen - we will have a FK constraint. A foreign key forces all values of the FK, to be limited to only the values which exist as entries in the PK column of the table for which the aforementioned table is a foreign key to. For example, we cannot sell a product (in our Transactions table) which we do not have in our Products table. \n",
    "\n",
    "You will need to work around this by removing the erroneous data from the tables before continuing, since this would violate the FK constraint between the Transactions_2NF and Products_2NF table otherwise. \n",
    "\n",
    "_Hint: Identify the observations in the Transactions_1NF table, and remove them from there._\n",
    "\n",
    "#### 7.5 Client Use-Case Requirements\n",
    "\n",
    "The data owner has advised that there were several instances of incorrect data capturing. Whenever data was partially captured, it was redone, but the partially-complete entries have not been removed from the database. \n",
    "\n",
    "For all tables which are going to be used, consider the table utility relative to the Products (Products_2NF) table. You are tasked with removing 'useless' entries as you take the data from 1NF to 2NF. For the sake of ease-of-use for the client, we will removing all rows in the 2NF tables `PackageContents_2NF` and `Colours_2NF` which have an empty value for the attributes that the client will use them for - these are the `ItemDescription` and `Colour` columns, respectively. \n",
    "\n",
    "_Hint: Make inserts into the other 2NF (`PackageContents_2NF` and `Colours_2NF`) tables using a `where` clause to remove instances of the value being an empty string, or a `null` value. This will need to be considered for the `ItemDescription` and for the `Colour` when data is inserted into the corresponding tables above (i.e. only insert data into the `PackageContents_2NF` which has a value for the `ItemDescription`, and only insert data into the `Colours_2NF` table which has a value for `Colour`_"
   ]
  },
  {
   "cell_type": "markdown",
   "metadata": {},
   "source": [
    "### <font color='turquoise'>Action: Investigate these anomalies for the tables mentioned </font>"
   ]
  },
  {
   "cell_type": "code",
   "execution_count": 57,
   "metadata": {},
   "outputs": [
    {
     "name": "stdout",
     "output_type": "stream",
     "text": [
      " * sqlite:///bhejane.db\n",
      "Done.\n"
     ]
    },
    {
     "data": {
      "text/html": [
       "<table>\n",
       "    <tr>\n",
       "        <th>ItemDescription</th>\n",
       "        <th>PackType</th>\n",
       "        <th>Warranty</th>\n",
       "    </tr>\n",
       "    <tr>\n",
       "        <td></td>\n",
       "        <td></td>\n",
       "        <td>Limited (6 months)</td>\n",
       "    </tr>\n",
       "    <tr>\n",
       "        <td></td>\n",
       "        <td></td>\n",
       "        <td>Non-Returnable</td>\n",
       "    </tr>\n",
       "    <tr>\n",
       "        <td></td>\n",
       "        <td></td>\n",
       "        <td>Limited (12 months)</td>\n",
       "    </tr>\n",
       "    <tr>\n",
       "        <td></td>\n",
       "        <td></td>\n",
       "        <td>Limited (120 months)</td>\n",
       "    </tr>\n",
       "    <tr>\n",
       "        <td></td>\n",
       "        <td></td>\n",
       "        <td>Limited (180 months)</td>\n",
       "    </tr>\n",
       "    <tr>\n",
       "        <td></td>\n",
       "        <td></td>\n",
       "        <td>Limited (18 months)</td>\n",
       "    </tr>\n",
       "    <tr>\n",
       "        <td></td>\n",
       "        <td></td>\n",
       "        <td>Supplier (12 months)</td>\n",
       "    </tr>\n",
       "    <tr>\n",
       "        <td></td>\n",
       "        <td>Single</td>\n",
       "        <td>Limited (6 months)</td>\n",
       "    </tr>\n",
       "    <tr>\n",
       "        <td></td>\n",
       "        <td></td>\n",
       "        <td>Limited (24 months)</td>\n",
       "    </tr>\n",
       "    <tr>\n",
       "        <td></td>\n",
       "        <td></td>\n",
       "        <td></td>\n",
       "    </tr>\n",
       "    <tr>\n",
       "        <td></td>\n",
       "        <td></td>\n",
       "        <td>Limited (36 months)</td>\n",
       "    </tr>\n",
       "    <tr>\n",
       "        <td></td>\n",
       "        <td></td>\n",
       "        <td>Full (6 months)</td>\n",
       "    </tr>\n",
       "</table>"
      ],
      "text/plain": [
       "[('', '', 'Limited (6 months)'),\n",
       " ('', '', 'Non-Returnable'),\n",
       " ('', '', 'Limited (12 months)'),\n",
       " ('', '', 'Limited (120 months)'),\n",
       " ('', '', 'Limited (180 months)'),\n",
       " ('', '', 'Limited (18 months)'),\n",
       " ('', '', 'Supplier (12 months)'),\n",
       " ('', 'Single', 'Limited (6 months)'),\n",
       " ('', '', 'Limited (24 months)'),\n",
       " ('', '', ''),\n",
       " ('', '', 'Limited (36 months)'),\n",
       " ('', '', 'Full (6 months)')]"
      ]
     },
     "execution_count": 57,
     "metadata": {},
     "output_type": "execute_result"
    }
   ],
   "source": [
    "%%sql \n",
    "\n",
    "SELECT DISTINCT \n",
    "    ItemDescription,\n",
    "    PackType,\n",
    "    Warranty \n",
    "FROM\n",
    "    Products\n",
    "WHERE ItemDescription = '';"
   ]
  },
  {
   "cell_type": "markdown",
   "metadata": {},
   "source": [
    "### Let's do it! Construct the database above in second normal form"
   ]
  },
  {
   "cell_type": "code",
   "execution_count": 58,
   "metadata": {},
   "outputs": [
    {
     "name": "stdout",
     "output_type": "stream",
     "text": [
      " * sqlite:///bhejane.db\n",
      "Done.\n",
      "Done.\n",
      "Done.\n",
      "Done.\n",
      "Done.\n",
      "Done.\n",
      "Done.\n",
      "Done.\n",
      "Done.\n",
      "Done.\n"
     ]
    },
    {
     "data": {
      "text/plain": [
       "[]"
      ]
     },
     "execution_count": 58,
     "metadata": {},
     "output_type": "execute_result"
    }
   ],
   "source": [
    "%%sql\n",
    "--#Create tables required for 2NF\n",
    "\n",
    "DROP TABLE IF EXISTS \"Products_2NF\";\n",
    "DROP TABLE IF EXISTS \"Transactions_2NF\";\n",
    "DROP TABLE IF EXISTS \"Navigation_2NF\";\n",
    "DROP TABLE IF EXISTS \"PackageContents_2NF\";\n",
    "DROP TABLE IF EXISTS \"Colours_2NF\";\n",
    "\n",
    "CREATE TABLE Products_2NF(\n",
    "    \"RegistryID\" INTEGER NOT NULL,\n",
    "    \"Barcode\" VARCHAR(150) NOT NULL,\n",
    "    \"ProductDescription\" VARCHAR(150) NOT NULL,\n",
    "    \"Brand\" VARCHAR(150),\n",
    "    \"Price\" REAL NOT NULL,\n",
    "    \"Quantity\" INTEGER NOT NULL,\n",
    "    \"StockCountry\" VARCHAR(150),\n",
    "    \"Weight_kg\" REAL,\n",
    "    \"Volume_litre\" REAL,\n",
    "    \"Length\" REAL,\n",
    "    \"Width\" REAL,\n",
    "    \"Height\" REAL,\n",
    "    \"PathID\" INTEGER,\n",
    "    \"ItemID\" INTEGER,\n",
    "    \"ColourID\" INTEGER,\n",
    "    PRIMARY KEY(RegistryID AUTOINCREMENT),\n",
    "    CONSTRAINT fk_nav FOREIGN KEY('PathID') REFERENCES Navigation_2NF ('PathID'),\n",
    "    CONSTRAINT fk_pack FOREIGN KEY('ItemID') REFERENCES PackageContents_2NF ('ItemID'),\n",
    "    CONSTRAINT fk_col FOREIGN KEY('ColourID') REFERENCES Colours_2NF ('ColourID') \n",
    ");\n",
    "\n",
    "CREATE TABLE \"Transactions_2NF\" (\n",
    "    \"CartID||Barcode||UserName\" VARCHAR(150) NOT NULL,\n",
    "    \"CartID\" INTEGER NOT NULL,\n",
    "    \"Barcode\" VARCHAR(150) NOT NULL,\n",
    "    \"UserName\" VARCHAR(150) NOT NULL,\n",
    "    \"InvoiceDate\" DATETIME NOT NULL,\n",
    "    \"Total\" REAL NOT NULL,\n",
    "    PRIMARY KEY(\"CartID||Barcode||UserName\")\n",
    "    CONSTRAINT fk_trans FOREIGN KEY('Barcode') REFERENCES Products_2NF ('Barcode')\n",
    ");\n",
    "\n",
    "\n",
    "CREATE TABLE \"Navigation_2NF\"(\n",
    "    \"PathID\" INTEGER NOT NULL,\n",
    "    \"NavigationPath\" VARCHAR(150),\n",
    "    PRIMARY KEY(\"PathID\" AUTOINCREMENT)\n",
    ");\n",
    "\n",
    "CREATE TABLE \"Colours_2NF\"(\n",
    "    \"ColourID\" INTEGER NOT NULL,\n",
    "    \"Colour\" VARCHAR(150),\n",
    "    PRIMARY KEY(\"ColourID\" AUTOINCREMENT)\n",
    ");\n",
    "\n",
    "CREATE TABLE \"PackageContents_2NF\"(\n",
    "    \"ItemID\" INTEGER NOT NULL,\n",
    "    \"ItemDescription\" VARCHAR(150),\n",
    "    \"PackType\" VARCHAR(150),\n",
    "    \"Warranty\" VARCHAR(150),\n",
    "    PRIMARY KEY(\"ItemID\" AUTOINCREMENT)\n",
    ");\n"
   ]
  },
  {
   "cell_type": "markdown",
   "metadata": {},
   "source": [
    "### Let's do it! _Populate_ the database above in second normal form\n",
    "\n",
    "Firstly, let's consider the entries which are `null` and `= ''`. And we will only insert the relevant entries. "
   ]
  },
  {
   "cell_type": "code",
   "execution_count": 59,
   "metadata": {},
   "outputs": [
    {
     "name": "stdout",
     "output_type": "stream",
     "text": [
      " * sqlite:///bhejane.db\n",
      "Done.\n",
      "0 rows affected.\n",
      "0 rows affected.\n",
      "0 rows affected.\n",
      "0 rows affected.\n",
      "396 rows affected.\n",
      "600 rows affected.\n",
      "17 rows affected.\n"
     ]
    },
    {
     "data": {
      "text/plain": [
       "[]"
      ]
     },
     "execution_count": 59,
     "metadata": {},
     "output_type": "execute_result"
    }
   ],
   "source": [
    "%%sql\n",
    "-- #Populate the tables so that they conform to 2NF\n",
    "\n",
    "DELETE FROM \"Products_2NF\";\n",
    "DELETE FROM \"Transactions_2NF\";\n",
    "DELETE FROM \"Navigation_2NF\";\n",
    "DELETE FROM \"PackageContents_2NF\";\n",
    "DELETE FROM \"Colours_2NF\";\n",
    "\n",
    "\n",
    "INSERT INTO \"Navigation_2NF\"(\"NavigationPath\")\n",
    "SELECT DISTINCT \n",
    "    NavigationPath \n",
    "FROM\n",
    "    Products_1NF;\n",
    "    \n",
    "INSERT INTO \"PackageContents_2NF\"(\"ItemDescription\",\"PackType\",\"Warranty\")\n",
    "SELECT DISTINCT \n",
    "    ItemDescription,\n",
    "    PackType,\n",
    "    Warranty \n",
    "FROM\n",
    "    Products_1NF\n",
    "WHERE ItemDescription <> ''\n",
    "        ;\n",
    "    \n",
    "INSERT INTO \"Colours_2NF\"(\"Colour\")\n",
    "SELECT DISTINCT \n",
    "    Colour\n",
    "FROM\n",
    "    Products_1NF\n",
    "WHERE Colour <> ''\n",
    "        ;"
   ]
  },
  {
   "cell_type": "markdown",
   "metadata": {},
   "source": [
    "A more complicated scenario below as we insert into `Products_2NF`. We will insert from the Products_1NF table. We can use LEFT JOIN, because the data in each of these tables that `Products_1NF` has a FK to, originally came from `Products_1NF`, so we are gauranteed to get matches back. Normally however, what you would get from the FK restriction is the requirement to use _parent-table_ `LEFT JOIN` _child-table_. "
   ]
  },
  {
   "cell_type": "code",
   "execution_count": 60,
   "metadata": {},
   "outputs": [
    {
     "name": "stdout",
     "output_type": "stream",
     "text": [
      " * sqlite:///bhejane.db\n",
      "1214 rows affected.\n"
     ]
    },
    {
     "data": {
      "text/plain": [
       "[]"
      ]
     },
     "execution_count": 60,
     "metadata": {},
     "output_type": "execute_result"
    }
   ],
   "source": [
    "%%sql \n",
    "\n",
    "INSERT INTO \"Products_2NF\" (\"PathID\",\"ItemID\",\"ColourID\",\"Barcode\",\"ProductDescription\",\"Brand\",\"Price\",\n",
    "                            \"Quantity\",\"StockCountry\",\"Weight_kg\",\"Volume_litre\",\n",
    "                            \"Length\",\"Width\",\"Height\")\n",
    "SELECT\n",
    "    PathID,\n",
    "    ItemID,\n",
    "    ColourID,\n",
    "    Products_1NF.Barcode,\n",
    "    ProductDescription,\n",
    "    Brand,\n",
    "    Price,\n",
    "    Quantity,\n",
    "    StockCountry,\n",
    "    Weight_kg, \n",
    "    Volume_litre, \n",
    "    Length,\n",
    "    Width,\n",
    "    Height \n",
    "FROM \n",
    "    Products_1NF\n",
    "LEFT JOIN Navigation_2NF ON Products_1NF.NavigationPath = Navigation_2NF.NavigationPath \n",
    "LEFT JOIN PackageContents_2NF ON Products_1NF.ItemDescription = PackageContents_2NF.ItemDescription\n",
    "LEFT JOIN Colours_2NF ON Products_1NF.Colour = Colours_2NF.Colour"
   ]
  },
  {
   "cell_type": "markdown",
   "metadata": {},
   "source": [
    "Last but not least, we insert into the `Transactions_2NF`table. Recall that we created a new PK in this table, and pay attention to how we are inserting values into the table. "
   ]
  },
  {
   "cell_type": "code",
   "execution_count": 61,
   "metadata": {},
   "outputs": [
    {
     "name": "stdout",
     "output_type": "stream",
     "text": [
      " * sqlite:///bhejane.db\n",
      "275 rows affected.\n"
     ]
    },
    {
     "data": {
      "text/plain": [
       "[]"
      ]
     },
     "execution_count": 61,
     "metadata": {},
     "output_type": "execute_result"
    }
   ],
   "source": [
    "%%sql \n",
    "\n",
    "INSERT INTO \"Transactions_2NF\"(\"CartID||Barcode||UserName\",\"CartID\",\"Barcode\",\"UserName\",\"InvoiceDate\",\"Total\")\n",
    "SELECT DISTINCT \n",
    "    CartID||Transactions_1NF.Barcode||UserName\n",
    "    ,CartID\n",
    "    ,Transactions_1NF.Barcode\n",
    "    ,UserName\n",
    "    ,InvoiceDate\n",
    "    ,Total\n",
    "FROM\n",
    "    Transactions_1NF\n",
    "LEFT JOIN Products_2NF ON Transactions_1NF.Barcode = Products_2NF.Barcode ;\n"
   ]
  },
  {
   "cell_type": "markdown",
   "metadata": {},
   "source": [
    "<a id='Target_ERD'></a>\n",
    "### 8. Convert the table into its 3rd Normal Form (3NF)\n",
    "\n",
    "Please label your tables as they appear in the ERD sketch. In the same fashion as done in 2NF, note which tables need to have data inserted `where column <> '' and column is not null`.\n",
    "\n",
    "<br>\n",
    "\n",
    "![3rd Normal Form](https://raw.githubusercontent.com/Explore-AI/Pictures/master/SQL4DS/SQL_Predict/3rdNF.png)"
   ]
  },
  {
   "cell_type": "code",
   "execution_count": 62,
   "metadata": {
    "id": "nSceV8iQgwwP",
    "outputId": "8f243bda-2032-4c7b-9c58-e6110cdb9505"
   },
   "outputs": [
    {
     "name": "stdout",
     "output_type": "stream",
     "text": [
      " * sqlite:///bhejane.db\n",
      "Done.\n",
      "Done.\n",
      "Done.\n",
      "Done.\n",
      "Done.\n",
      "Done.\n",
      "Done.\n",
      "Done.\n",
      "Done.\n",
      "Done.\n",
      "Done.\n",
      "Done.\n"
     ]
    },
    {
     "data": {
      "text/plain": [
       "[]"
      ]
     },
     "execution_count": 62,
     "metadata": {},
     "output_type": "execute_result"
    }
   ],
   "source": [
    "%%sql\n",
    "\n",
    "--#Create tables required for 2NF\n",
    "DROP TABLE IF EXISTS \"Transactions_3NF\";\n",
    "DROP TABLE IF EXISTS \"Carts_3NF\";\n",
    "DROP TABLE IF EXISTS \"Products_3NF\";\n",
    "DROP TABLE IF EXISTS \"Users_3NF\";\n",
    "DROP TABLE IF EXISTS \"Navigation_3NF\";\n",
    "DROP TABLE IF EXISTS \"PackageContents_3NF\";\n",
    "DROP TABLE IF EXISTS \"Colours_3NF\";\n",
    "DROP TABLE IF EXISTS \"Brands_3NF\";\n",
    "DROP TABLE IF EXISTS \"Locations_3NF\";\n",
    "\n",
    "CREATE TABLE \"Products_3NF\" (\n",
    "    \"RegistryID\" INTEGER NOT NULL,\n",
    "    \"Barcode\" VARCHAR(150) NOT NULL,\n",
    "    \"ProductDescription\" VARCHAR(150) NOT NULL,\n",
    "    \"Price\" REAL NOT NULL,\n",
    "    \"Quantity\" INTEGER NOT NULL,\n",
    "    \"Weight_kg\" REAL,\n",
    "    \"Volume_litre\" REAL,\n",
    "    \"Length\" REAL,\n",
    "    \"Width\" REAL,\n",
    "    \"Height\" REAL,\n",
    "    \"PathID\" INTEGER,\n",
    "    \"ItemID\" INTEGER,\n",
    "    \"ColourID\" INTEGER,\n",
    "    \"BrandID\" INTEGER,\n",
    "    \"LocationID\" INTEGER,\n",
    "    PRIMARY KEY(\"RegistryID\" AUTOINCREMENT),\n",
    "    FOREIGN KEY(\"PathID\") REFERENCES \"Navigation_3NF\" (\"PathID\"),\n",
    "    FOREIGN KEY(\"ItemID\") REFERENCES \"PackageContents_3NF\" (\"ItemID\"),\n",
    "    FOREIGN KEY(\"ColourID\") REFERENCES \"Colours_3NF\" (\"ColourID\") ,\n",
    "    FOREIGN KEY (\"BrandID\") REFERENCES \"Brands_3NF\" (\"BrandID\"),\n",
    "    FOREIGN KEY (\"LocationID\") REFERENCES \"Locations_3NF\" (\"LocationID\")\n",
    ");\n",
    "\n",
    "\n",
    "CREATE TABLE \"Carts_3NF\" (\n",
    "    \"CartID\" INTEGER NOT NULL,\n",
    "    \"InvoiceDate\" DATETIME NOT NULL,\n",
    "    \"Total\" REAL NOT NULL,\n",
    "    PRIMARY KEY (\"CartID\")\n",
    ");\n",
    "\n",
    "\n",
    "CREATE TABLE \"Users_3NF\"(\n",
    "    \"UserID\" INTEGER NOT NULL,\n",
    "    UserName VARCHAR(50) NOT NULL,\n",
    "    PRIMARY KEY(\"UserID\" AUTOINCREMENT)\n",
    ");\n"
   ]
  },
  {
   "cell_type": "markdown",
   "metadata": {},
   "source": [
    "### <font color='turquoise'>Action: proceed with the construction of the remaining tables mentioned </font>"
   ]
  },
  {
   "cell_type": "code",
   "execution_count": 63,
   "metadata": {},
   "outputs": [
    {
     "name": "stdout",
     "output_type": "stream",
     "text": [
      " * sqlite:///bhejane.db\n",
      "Done.\n",
      "Done.\n",
      "Done.\n",
      "Done.\n",
      "Done.\n",
      "Done.\n"
     ]
    },
    {
     "data": {
      "text/plain": [
       "[]"
      ]
     },
     "execution_count": 63,
     "metadata": {},
     "output_type": "execute_result"
    }
   ],
   "source": [
    "%%sql\n",
    "\n",
    "CREATE TABLE \"Transactions_3NF\" (\n",
    "    \"CartID||Barcode||UserName\" VARCHAR(150) NOT NULL,\n",
    "    \"Barcode\" VARCHAR(150) NOT NULL,\n",
    "    \"UserID\" INTEGER NOT NULL,\n",
    "    \"CartID\" INTEGER NOT NULL,\n",
    "    PRIMARY KEY(\"CartID||Barcode||UserName\")\n",
    "    FOREIGN KEY('Barcode') REFERENCES Products_3NF ('Barcode')\n",
    "    FOREIGN KEY('UserId') REFERENCES Users_3NF ('UserId'),\n",
    "    FOREIGN KEY('CartId') REFERENCES Carts_3NF ('CartId')\n",
    ");\n",
    "\n",
    "CREATE TABLE \"Navigation_3NF\"(\n",
    "    \"PathID\" INTEGER NOT NULL,\n",
    "    \"NavigationPath\" VARCHAR(150),\n",
    "    PRIMARY KEY(\"PathID\" AUTOINCREMENT)\n",
    ");\n",
    "\n",
    "CREATE TABLE \"PackageContents_3NF\"(\n",
    "    \"ItemID\" INTEGER NOT NULL,\n",
    "    \"ItemDescription\" VARCHAR(150),\n",
    "    \"PackType\" VARCHAR(150),\n",
    "    \"Warranty\" VARCHAR(150),\n",
    "    PRIMARY KEY(\"ItemID\" AUTOINCREMENT)\n",
    ");\n",
    "\n",
    "CREATE TABLE \"Colours_3NF\"(\n",
    "    \"ColourID\" INTEGER NOT NULL,\n",
    "    \"Colour\" VARCHAR(150),\n",
    "    PRIMARY KEY(\"ColourID\" AUTOINCREMENT)\n",
    ");\n",
    "\n",
    "\n",
    "CREATE TABLE \"Brands_3NF\"(\n",
    "    \"BrandID\" INTEGER NOT NULL,\n",
    "    \"Brand\" VARCHAR(150),\n",
    "    PRIMARY KEY(\"BrandID\" AUTOINCREMENT)\n",
    ");\n",
    "\n",
    "    \n",
    "CREATE TABLE \"Locations_3NF\"(\n",
    "    \"LocationID\" INTEGER NOT NULL,\n",
    "    \"StockCountry\" VARCHAR(150),\n",
    "    PRIMARY KEY(\"LocationID\" AUTOINCREMENT)\n",
    ");"
   ]
  },
  {
   "cell_type": "code",
   "execution_count": 64,
   "metadata": {},
   "outputs": [
    {
     "name": "stdout",
     "output_type": "stream",
     "text": [
      " * sqlite:///bhejane.db\n",
      "Done.\n",
      "0 rows affected.\n",
      "0 rows affected.\n",
      "0 rows affected.\n",
      "0 rows affected.\n",
      "0 rows affected.\n",
      "0 rows affected.\n",
      "0 rows affected.\n",
      "0 rows affected.\n",
      "158 rows affected.\n"
     ]
    },
    {
     "data": {
      "text/plain": [
       "[]"
      ]
     },
     "execution_count": 64,
     "metadata": {},
     "output_type": "execute_result"
    }
   ],
   "source": [
    "%%sql\n",
    "\n",
    "--# Populate the tables to that they conform to the 3rd Normal Form\n",
    "DELETE FROM \"Products_3NF\";\n",
    "DELETE FROM \"Transactions_3NF\";\n",
    "DELETE FROM \"Carts_3NF\";\n",
    "DELETE FROM \"Users_3NF\";\n",
    "DELETE FROM \"Navigation_3NF\";\n",
    "DELETE FROM \"PackageContents_3NF\";\n",
    "DELETE FROM \"Colours_3NF\";\n",
    "DELETE FROM \"Brands_3NF\";\n",
    "DELETE FROM \"Locations_3NF\";\n",
    "\n",
    "INSERT INTO \"Users_3NF\" (\"UserName\")\n",
    "SELECT DISTINCT UserName FROM Transactions_2NF;\n"
   ]
  },
  {
   "cell_type": "markdown",
   "metadata": {},
   "source": [
    "### <font color='turquoise'>Action: proceed with the insertion into `Carts_3NF`.   </font>\n",
    "\n",
    "Take note that there are duplicate values coming from `Transactions_2NF` - retain the `distinct` combinations of `CartID`,`InvoiceDate`,`Total` only."
   ]
  },
  {
   "cell_type": "code",
   "execution_count": 65,
   "metadata": {},
   "outputs": [
    {
     "name": "stdout",
     "output_type": "stream",
     "text": [
      " * sqlite:///bhejane.db\n",
      "190 rows affected.\n"
     ]
    },
    {
     "data": {
      "text/plain": [
       "[]"
      ]
     },
     "execution_count": 65,
     "metadata": {},
     "output_type": "execute_result"
    }
   ],
   "source": [
    "%%sql\n",
    "\n",
    "INSERT INTO \"Carts_3NF\"(\"CartID\",\"InvoiceDate\",\"Total\")\n",
    "SELECT DISTINCT CartId, InvoiceDate, Total FROM Transactions_2NF;"
   ]
  },
  {
   "cell_type": "markdown",
   "metadata": {},
   "source": [
    "### <font color='turquoise'>Action: proceed with the insertion into the tables below. </font>\n",
    "\n",
    "Similarly to the table above, mind the occurances of duplicate entries. These can be avoided by using `SELECT distinct` to avoid inserting redundant rows. \n"
   ]
  },
  {
   "cell_type": "code",
   "execution_count": 66,
   "metadata": {},
   "outputs": [
    {
     "name": "stdout",
     "output_type": "stream",
     "text": [
      " * sqlite:///bhejane.db\n",
      "2 rows affected.\n",
      "232 rows affected.\n",
      "17 rows affected.\n",
      "600 rows affected.\n",
      "396 rows affected.\n"
     ]
    },
    {
     "data": {
      "text/plain": [
       "[]"
      ]
     },
     "execution_count": 66,
     "metadata": {},
     "output_type": "execute_result"
    }
   ],
   "source": [
    "%%sql\n",
    "\n",
    "INSERT INTO \"Locations_3NF\" (\"StockCountry\")\n",
    "SELECT DISTINCT StockCountry FROM Products_2NF\n",
    "where StockCountry <> ''\n",
    ";\n",
    "\n",
    "INSERT INTO \"Brands_3NF\" (\"Brand\")\n",
    "SELECT DISTINCT Brand FROM Products_2NF\n",
    "where Brand <> ''\n",
    ";\n",
    "\n",
    "INSERT INTO \"Colours_3NF\" (\"Colour\")\n",
    "SELECT DISTINCT  Colour FROM Colours_2NF;\n",
    "\n",
    "INSERT INTO \"PackageContents_3NF\" (\"ItemDescription\",\"PackType\",\"Warranty\")\n",
    "SELECT DISTINCT ItemDescription, PackType, Warranty FROM PackageContents_2NF;\n",
    "\n",
    "INSERT INTO \"Navigation_3NF\" (\"NavigationPath\")\n",
    "SELECT DISTINCT NavigationPath FROM Navigation_2NF;\n"
   ]
  },
  {
   "cell_type": "markdown",
   "metadata": {},
   "source": [
    "### <font color='turquoise'>Action: proceed with the insertion into `Products_3NF`. </font>\n",
    "Take note of the joins required for additional data contained in other tables. "
   ]
  },
  {
   "cell_type": "code",
   "execution_count": 67,
   "metadata": {
    "scrolled": true
   },
   "outputs": [
    {
     "name": "stdout",
     "output_type": "stream",
     "text": [
      " * sqlite:///bhejane.db\n",
      "1214 rows affected.\n"
     ]
    },
    {
     "data": {
      "text/plain": [
       "[]"
      ]
     },
     "execution_count": 67,
     "metadata": {},
     "output_type": "execute_result"
    }
   ],
   "source": [
    "%%sql\n",
    "\n",
    "INSERT INTO \"Products_3NF\" (\"PathID\",\"ItemID\",\"ColourID\",\"BrandID\",\"LocationID\",\n",
    "                            \"Barcode\",\"ProductDescription\",\"Price\",\n",
    "                            \"Quantity\",\"Weight_kg\",\"Volume_litre\",\n",
    "                            \"Length\",\"Width\",\"Height\")\n",
    "SELECT DISTINCT\n",
    "    Products_2NF.PathID,\n",
    "    Products_2NF.ItemID,\n",
    "    Products_2NF.ColourID,\n",
    "    Brands_3NF.BrandID,\n",
    "    Locations_3NF.LocationID,\n",
    "    Products_2NF.Barcode,\n",
    "    ProductDescription,\n",
    "    Price,\n",
    "    Quantity,\n",
    "    Weight_kg, \n",
    "    Volume_litre, \n",
    "    Length,\n",
    "    Width,\n",
    "    Height \n",
    "FROM Products_2NF\n",
    "LEFT JOIN Navigation_3NF ON Products_2NF.PathID = Navigation_3NF.PathID \n",
    "LEFT JOIN PackageContents_3NF ON Products_2NF.ItemID = PackageContents_3NF.ItemID\n",
    "LEFT JOIN Colours_3NF ON Products_2NF.ColourID = Colours_3NF.ColourID\n",
    "LEFT JOIN Locations_3NF ON Products_2NF.StockCountry = Locations_3NF.StockCountry\n",
    "LEFT JOIN Brands_3NF ON Products_2NF.Brand = Brands_3NF.Brand;"
   ]
  },
  {
   "cell_type": "code",
   "execution_count": null,
   "metadata": {},
   "outputs": [],
   "source": []
  },
  {
   "cell_type": "markdown",
   "metadata": {},
   "source": [
    "### <font color='turquoise'>Action: proceed with the insertion into `Transactions_3NF`.   </font>\n",
    "\n",
    "Follow previous proceedure, and checks. "
   ]
  },
  {
   "cell_type": "code",
   "execution_count": 68,
   "metadata": {},
   "outputs": [
    {
     "name": "stdout",
     "output_type": "stream",
     "text": [
      " * sqlite:///bhejane.db\n",
      "275 rows affected.\n"
     ]
    },
    {
     "data": {
      "text/plain": [
       "[]"
      ]
     },
     "execution_count": 68,
     "metadata": {},
     "output_type": "execute_result"
    }
   ],
   "source": [
    "%%sql\n",
    "\n",
    "INSERT INTO \"Transactions_3NF\"(\"CartID||Barcode||UserName\",\"CartID\",\"Barcode\",\"UserID\")\n",
    "SELECT DISTINCT \n",
    "    Transactions_2NF.CartID||Transactions_2NF.Barcode||Transactions_2NF.UserName\n",
    "    ,Transactions_2NF.CartID\n",
    "    ,Transactions_2NF.Barcode\n",
    "    ,Users_3NF.UserID\n",
    "FROM\n",
    "    Transactions_2NF\n",
    "LEFT JOIN Products_3NF ON Transactions_2NF.Barcode = Products_3NF.Barcode \n",
    "LEFT JOIN Carts_3NF ON Transactions_2NF.CartID = Carts_3NF.CartID\n",
    "LEFT JOIN Users_3NF ON Transactions_2NF.UserName = Users_3NF.UserName;\n"
   ]
  },
  {
   "cell_type": "markdown",
   "metadata": {},
   "source": [
    "### <font color='turquoise'>Action: Investigate the DB.   </font>\n",
    "\n",
    "Note - the tables counts below are what you should arrive at. If you don't, reconsider how you have done the inserts above. Having the tables correctly formatted will allow to answer the questions more easily, and without errors.\n",
    "\n",
    "| Table Name | Count |\n",
    "| --- | --- |\n",
    "| Brands_3NF | 232 |\n",
    "| Carts_3NF |  190 |\n",
    "| Colours_3NF | 17 |\n",
    "| Locations_3NF | 2 |\n",
    "| Navigation_3NF | 396 |\n",
    "| PackageContents_3NF | 600 |\n",
    "| Products_3NF | 1214 |\n",
    "| Transactions_3NF | 275 |\n",
    "| Users_3NF | 158 |"
   ]
  },
  {
   "cell_type": "code",
   "execution_count": 69,
   "metadata": {},
   "outputs": [
    {
     "name": "stdout",
     "output_type": "stream",
     "text": [
      " * sqlite:///bhejane.db\n",
      "Done.\n"
     ]
    },
    {
     "data": {
      "text/html": [
       "<table>\n",
       "    <tr>\n",
       "        <th>table_name</th>\n",
       "        <th>count(*)</th>\n",
       "    </tr>\n",
       "    <tr>\n",
       "        <td>Brands_3NF</td>\n",
       "        <td>232</td>\n",
       "    </tr>\n",
       "    <tr>\n",
       "        <td>Carts_3NF</td>\n",
       "        <td>190</td>\n",
       "    </tr>\n",
       "    <tr>\n",
       "        <td>Colours_3NF</td>\n",
       "        <td>17</td>\n",
       "    </tr>\n",
       "    <tr>\n",
       "        <td>Locations_3NF</td>\n",
       "        <td>2</td>\n",
       "    </tr>\n",
       "    <tr>\n",
       "        <td>Navigation_3NF</td>\n",
       "        <td>396</td>\n",
       "    </tr>\n",
       "    <tr>\n",
       "        <td>PackageContents_3NF</td>\n",
       "        <td>600</td>\n",
       "    </tr>\n",
       "    <tr>\n",
       "        <td>Products_3NF</td>\n",
       "        <td>1214</td>\n",
       "    </tr>\n",
       "    <tr>\n",
       "        <td>Transactions_3NF</td>\n",
       "        <td>275</td>\n",
       "    </tr>\n",
       "    <tr>\n",
       "        <td>Users_3NF</td>\n",
       "        <td>158</td>\n",
       "    </tr>\n",
       "</table>"
      ],
      "text/plain": [
       "[('Brands_3NF', 232),\n",
       " ('Carts_3NF', 190),\n",
       " ('Colours_3NF', 17),\n",
       " ('Locations_3NF', 2),\n",
       " ('Navigation_3NF', 396),\n",
       " ('PackageContents_3NF', 600),\n",
       " ('Products_3NF', 1214),\n",
       " ('Transactions_3NF', 275),\n",
       " ('Users_3NF', 158)]"
      ]
     },
     "execution_count": 69,
     "metadata": {},
     "output_type": "execute_result"
    }
   ],
   "source": [
    "%%sql \n",
    "\n",
    "-- How many entries are here in each of the tables in the database now? \n",
    "select 'Products_3NF' as table_name, count(*) from Products_3NF\n",
    "UNION\n",
    "select 'Transactions_3NF' as table_name, count(*) from Transactions_3NF\n",
    "UNION\n",
    "select 'Users_3NF' as table_name, count(*) from Users_3NF\n",
    "UNION\n",
    "select 'Navigation_3NF' as table_name, count(*) from Navigation_3NF\n",
    "UNION\n",
    "select 'PackageContents_3NF' as table_name, count(*) from PackageContents_3NF\n",
    "UNION\n",
    "select 'Colours_3NF' as table_name, count(*) from Colours_3NF\n",
    "UNION\n",
    "select 'Brands_3NF' as table_name, count(*) from Brands_3NF\n",
    "UNION\n",
    "select 'Locations_3NF' as table_name, count(*) from Locations_3NF\n",
    "UNION\n",
    "select 'Carts_3NF' as table_name, count(*) from Carts_3NF\n"
   ]
  },
  {
   "cell_type": "markdown",
   "metadata": {
    "id": "zMvJZFQsGE03"
   },
   "source": [
    "<a id='MCQ_questions'></a>\n",
    "## 9. MCQ Questions\n",
    "\n",
    "Having completed the normalisation of the database, you may use the following cells to help you answer the MCQs for the predict. "
   ]
  },
  {
   "cell_type": "markdown",
   "metadata": {
    "id": "hEVNjuirGE03"
   },
   "source": [
    "Q1) How many unique products does the company have?"
   ]
  },
  {
   "cell_type": "code",
   "execution_count": 70,
   "metadata": {},
   "outputs": [
    {
     "name": "stdout",
     "output_type": "stream",
     "text": [
      " * sqlite:///bhejane.db\n",
      "Done.\n"
     ]
    },
    {
     "data": {
      "text/html": [
       "<table>\n",
       "    <tr>\n",
       "        <th>count(*)</th>\n",
       "    </tr>\n",
       "    <tr>\n",
       "        <td>1214</td>\n",
       "    </tr>\n",
       "</table>"
      ],
      "text/plain": [
       "[(1214,)]"
      ]
     },
     "execution_count": 70,
     "metadata": {},
     "output_type": "execute_result"
    }
   ],
   "source": [
    "%%sql\n",
    "-- Write your query here:\n",
    "select count(*) From Products_3NF"
   ]
  },
  {
   "cell_type": "markdown",
   "metadata": {
    "id": "WsQZQ8tuGE03"
   },
   "source": [
    "Q2) How many users bought from Bhejane in April 2020?"
   ]
  },
  {
   "cell_type": "code",
   "execution_count": 3,
   "metadata": {},
   "outputs": [],
   "source": []
  },
  {
   "cell_type": "code",
   "execution_count": 71,
   "metadata": {
    "id": "hFz7XUw_GE04"
   },
   "outputs": [
    {
     "name": "stdout",
     "output_type": "stream",
     "text": [
      " * sqlite:///bhejane.db\n",
      "Done.\n"
     ]
    },
    {
     "data": {
      "text/html": [
       "<table>\n",
       "    <tr>\n",
       "        <th>count(u.UserID)</th>\n",
       "    </tr>\n",
       "    <tr>\n",
       "        <td>57</td>\n",
       "    </tr>\n",
       "</table>"
      ],
      "text/plain": [
       "[(57,)]"
      ]
     },
     "execution_count": 71,
     "metadata": {},
     "output_type": "execute_result"
    }
   ],
   "source": [
    "%%sql\n",
    "-- Write your query here:\n",
    "With AprilCart AS(\n",
    "Select InvoiceDate, CartID\n",
    "From Carts_3NF\n",
    "Where Substr(InvoiceDate, 1,7) = '2020-04')\n",
    "Select count(u.UserID)\n",
    "From Users_3NF u\n",
    "join Transactions_3NF t ON u.UserID = t.UserID\n",
    "join AprilCart a ON a.CartID = t.CartID\n"
   ]
  },
  {
   "cell_type": "markdown",
   "metadata": {
    "id": "iBRifthWGE04"
   },
   "source": [
    "Q3) How many users bought 3 or more items that cost more than R1000?"
   ]
  },
  {
   "cell_type": "code",
   "execution_count": 73,
   "metadata": {},
   "outputs": [
    {
     "name": "stdout",
     "output_type": "stream",
     "text": [
      " * sqlite:///bhejane.db\n",
      "Done.\n"
     ]
    },
    {
     "data": {
      "text/html": [
       "<table>\n",
       "    <tr>\n",
       "        <th>UserID</th>\n",
       "        <th>num_items_bought</th>\n",
       "    </tr>\n",
       "    <tr>\n",
       "        <td>6</td>\n",
       "        <td>3</td>\n",
       "    </tr>\n",
       "    <tr>\n",
       "        <td>64</td>\n",
       "        <td>4</td>\n",
       "    </tr>\n",
       "    <tr>\n",
       "        <td>86</td>\n",
       "        <td>3</td>\n",
       "    </tr>\n",
       "    <tr>\n",
       "        <td>87</td>\n",
       "        <td>4</td>\n",
       "    </tr>\n",
       "    <tr>\n",
       "        <td>95</td>\n",
       "        <td>3</td>\n",
       "    </tr>\n",
       "    <tr>\n",
       "        <td>96</td>\n",
       "        <td>3</td>\n",
       "    </tr>\n",
       "    <tr>\n",
       "        <td>97</td>\n",
       "        <td>4</td>\n",
       "    </tr>\n",
       "    <tr>\n",
       "        <td>112</td>\n",
       "        <td>4</td>\n",
       "    </tr>\n",
       "    <tr>\n",
       "        <td>115</td>\n",
       "        <td>3</td>\n",
       "    </tr>\n",
       "    <tr>\n",
       "        <td>134</td>\n",
       "        <td>4</td>\n",
       "    </tr>\n",
       "    <tr>\n",
       "        <td>142</td>\n",
       "        <td>4</td>\n",
       "    </tr>\n",
       "</table>"
      ],
      "text/plain": [
       "[(6, 3),\n",
       " (64, 4),\n",
       " (86, 3),\n",
       " (87, 4),\n",
       " (95, 3),\n",
       " (96, 3),\n",
       " (97, 4),\n",
       " (112, 4),\n",
       " (115, 3),\n",
       " (134, 4),\n",
       " (142, 4)]"
      ]
     },
     "execution_count": 73,
     "metadata": {},
     "output_type": "execute_result"
    }
   ],
   "source": [
    "%%sql\n",
    "WITH cartmore AS (\n",
    "    SELECT CartID, Total\n",
    "    FROM Carts_3NF\n",
    "    WHERE Total > 1000\n",
    ")\n",
    "SELECT t.UserID, COUNT(t.Barcode) AS num_items_bought\n",
    "FROM Transactions_3NF t\n",
    "JOIN cartmore c ON t.CartId = c.CartID\n",
    "GROUP BY t.UserID\n",
    "HAVING COUNT(t.Barcode) >= 3;"
   ]
  },
  {
   "cell_type": "code",
   "execution_count": null,
   "metadata": {},
   "outputs": [],
   "source": []
  },
  {
   "cell_type": "markdown",
   "metadata": {
    "id": "9_-usJoSGE04"
   },
   "source": [
    "Q4) Which user made the largest purchase on a single transaction?"
   ]
  },
  {
   "cell_type": "code",
   "execution_count": 74,
   "metadata": {},
   "outputs": [
    {
     "name": "stdout",
     "output_type": "stream",
     "text": [
      " * sqlite:///bhejane.db\n",
      "Done.\n"
     ]
    },
    {
     "data": {
      "text/html": [
       "<table>\n",
       "    <tr>\n",
       "        <th>UserName</th>\n",
       "        <th>Total</th>\n",
       "    </tr>\n",
       "    <tr>\n",
       "        <td>Mandla</td>\n",
       "        <td>10999.0</td>\n",
       "    </tr>\n",
       "    <tr>\n",
       "        <td>Brigette</td>\n",
       "        <td>10999.0</td>\n",
       "    </tr>\n",
       "    <tr>\n",
       "        <td>Andreas Peter</td>\n",
       "        <td>3765.0</td>\n",
       "    </tr>\n",
       "    <tr>\n",
       "        <td>Mzoxolo</td>\n",
       "        <td>3765.0</td>\n",
       "    </tr>\n",
       "    <tr>\n",
       "        <td>Zanele</td>\n",
       "        <td>3464.0</td>\n",
       "    </tr>\n",
       "    <tr>\n",
       "        <td>Zanele</td>\n",
       "        <td>3464.0</td>\n",
       "    </tr>\n",
       "    <tr>\n",
       "        <td>Zanele</td>\n",
       "        <td>3464.0</td>\n",
       "    </tr>\n",
       "    <tr>\n",
       "        <td>Junaid</td>\n",
       "        <td>3301.0</td>\n",
       "    </tr>\n",
       "    <tr>\n",
       "        <td>Junaid</td>\n",
       "        <td>3301.0</td>\n",
       "    </tr>\n",
       "    <tr>\n",
       "        <td>Junaid</td>\n",
       "        <td>3301.0</td>\n",
       "    </tr>\n",
       "    <tr>\n",
       "        <td>Junaid</td>\n",
       "        <td>3301.0</td>\n",
       "    </tr>\n",
       "    <tr>\n",
       "        <td>Melandi</td>\n",
       "        <td>2535.0</td>\n",
       "    </tr>\n",
       "    <tr>\n",
       "        <td>Melandi</td>\n",
       "        <td>2535.0</td>\n",
       "    </tr>\n",
       "    <tr>\n",
       "        <td>Melandi</td>\n",
       "        <td>2535.0</td>\n",
       "    </tr>\n",
       "    <tr>\n",
       "        <td>Todani</td>\n",
       "        <td>2299.0</td>\n",
       "    </tr>\n",
       "    <tr>\n",
       "        <td>Cindy</td>\n",
       "        <td>1999.0</td>\n",
       "    </tr>\n",
       "    <tr>\n",
       "        <td>Anonymous</td>\n",
       "        <td>1999.0</td>\n",
       "    </tr>\n",
       "    <tr>\n",
       "        <td>Margaret</td>\n",
       "        <td>1716.0</td>\n",
       "    </tr>\n",
       "    <tr>\n",
       "        <td>Margaret</td>\n",
       "        <td>1716.0</td>\n",
       "    </tr>\n",
       "    <tr>\n",
       "        <td>Margaret</td>\n",
       "        <td>1716.0</td>\n",
       "    </tr>\n",
       "    <tr>\n",
       "        <td>Margaret</td>\n",
       "        <td>1716.0</td>\n",
       "    </tr>\n",
       "    <tr>\n",
       "        <td>DIMPHO</td>\n",
       "        <td>1523.0</td>\n",
       "    </tr>\n",
       "    <tr>\n",
       "        <td>DIMPHO</td>\n",
       "        <td>1523.0</td>\n",
       "    </tr>\n",
       "    <tr>\n",
       "        <td>DIMPHO</td>\n",
       "        <td>1523.0</td>\n",
       "    </tr>\n",
       "    <tr>\n",
       "        <td>DIMPHO</td>\n",
       "        <td>1523.0</td>\n",
       "    </tr>\n",
       "    <tr>\n",
       "        <td>Mandla</td>\n",
       "        <td>1351.0</td>\n",
       "    </tr>\n",
       "    <tr>\n",
       "        <td>Mandla</td>\n",
       "        <td>1351.0</td>\n",
       "    </tr>\n",
       "    <tr>\n",
       "        <td>Mandla</td>\n",
       "        <td>1351.0</td>\n",
       "    </tr>\n",
       "    <tr>\n",
       "        <td>Hanno</td>\n",
       "        <td>1334.0</td>\n",
       "    </tr>\n",
       "    <tr>\n",
       "        <td>Hanno</td>\n",
       "        <td>1334.0</td>\n",
       "    </tr>\n",
       "    <tr>\n",
       "        <td>Hanno</td>\n",
       "        <td>1334.0</td>\n",
       "    </tr>\n",
       "    <tr>\n",
       "        <td>Adele</td>\n",
       "        <td>1177.0</td>\n",
       "    </tr>\n",
       "    <tr>\n",
       "        <td>Adele</td>\n",
       "        <td>1177.0</td>\n",
       "    </tr>\n",
       "    <tr>\n",
       "        <td>Adele</td>\n",
       "        <td>1177.0</td>\n",
       "    </tr>\n",
       "    <tr>\n",
       "        <td>Karyn</td>\n",
       "        <td>1137.0</td>\n",
       "    </tr>\n",
       "    <tr>\n",
       "        <td>Karyn</td>\n",
       "        <td>1137.0</td>\n",
       "    </tr>\n",
       "    <tr>\n",
       "        <td>Karyn</td>\n",
       "        <td>1137.0</td>\n",
       "    </tr>\n",
       "    <tr>\n",
       "        <td>Daffy</td>\n",
       "        <td>1134.0</td>\n",
       "    </tr>\n",
       "    <tr>\n",
       "        <td>Daffy</td>\n",
       "        <td>1134.0</td>\n",
       "    </tr>\n",
       "    <tr>\n",
       "        <td>Daffy</td>\n",
       "        <td>1134.0</td>\n",
       "    </tr>\n",
       "    <tr>\n",
       "        <td>Daffy</td>\n",
       "        <td>1134.0</td>\n",
       "    </tr>\n",
       "    <tr>\n",
       "        <td>Mel</td>\n",
       "        <td>1114.0</td>\n",
       "    </tr>\n",
       "    <tr>\n",
       "        <td>Mel</td>\n",
       "        <td>1114.0</td>\n",
       "    </tr>\n",
       "    <tr>\n",
       "        <td>Mel</td>\n",
       "        <td>1114.0</td>\n",
       "    </tr>\n",
       "    <tr>\n",
       "        <td>Mel</td>\n",
       "        <td>1114.0</td>\n",
       "    </tr>\n",
       "    <tr>\n",
       "        <td>Vincent</td>\n",
       "        <td>999.0</td>\n",
       "    </tr>\n",
       "    <tr>\n",
       "        <td>Waylenn</td>\n",
       "        <td>899.0</td>\n",
       "    </tr>\n",
       "    <tr>\n",
       "        <td>Leonard</td>\n",
       "        <td>899.0</td>\n",
       "    </tr>\n",
       "    <tr>\n",
       "        <td>Heather</td>\n",
       "        <td>897.0</td>\n",
       "    </tr>\n",
       "    <tr>\n",
       "        <td>Heather</td>\n",
       "        <td>897.0</td>\n",
       "    </tr>\n",
       "    <tr>\n",
       "        <td>Heather</td>\n",
       "        <td>897.0</td>\n",
       "    </tr>\n",
       "    <tr>\n",
       "        <td>Heather</td>\n",
       "        <td>897.0</td>\n",
       "    </tr>\n",
       "    <tr>\n",
       "        <td>Zanele</td>\n",
       "        <td>840.0</td>\n",
       "    </tr>\n",
       "    <tr>\n",
       "        <td>Melokuhle</td>\n",
       "        <td>816.0</td>\n",
       "    </tr>\n",
       "    <tr>\n",
       "        <td>Melokuhle</td>\n",
       "        <td>816.0</td>\n",
       "    </tr>\n",
       "    <tr>\n",
       "        <td>Melokuhle</td>\n",
       "        <td>816.0</td>\n",
       "    </tr>\n",
       "    <tr>\n",
       "        <td>Melokuhle</td>\n",
       "        <td>816.0</td>\n",
       "    </tr>\n",
       "    <tr>\n",
       "        <td>Clodeane</td>\n",
       "        <td>815.0</td>\n",
       "    </tr>\n",
       "    <tr>\n",
       "        <td>GRANT</td>\n",
       "        <td>802.0</td>\n",
       "    </tr>\n",
       "    <tr>\n",
       "        <td>GRANT</td>\n",
       "        <td>802.0</td>\n",
       "    </tr>\n",
       "    <tr>\n",
       "        <td>GRANT</td>\n",
       "        <td>802.0</td>\n",
       "    </tr>\n",
       "    <tr>\n",
       "        <td>Carel</td>\n",
       "        <td>799.0</td>\n",
       "    </tr>\n",
       "    <tr>\n",
       "        <td>Lacin</td>\n",
       "        <td>798.0</td>\n",
       "    </tr>\n",
       "    <tr>\n",
       "        <td>Kelsey Brynne</td>\n",
       "        <td>798.0</td>\n",
       "    </tr>\n",
       "    <tr>\n",
       "        <td>Hugo</td>\n",
       "        <td>794.0</td>\n",
       "    </tr>\n",
       "    <tr>\n",
       "        <td>Hugo</td>\n",
       "        <td>794.0</td>\n",
       "    </tr>\n",
       "    <tr>\n",
       "        <td>Hugo</td>\n",
       "        <td>794.0</td>\n",
       "    </tr>\n",
       "    <tr>\n",
       "        <td>Erlo</td>\n",
       "        <td>775.0</td>\n",
       "    </tr>\n",
       "    <tr>\n",
       "        <td>Erlo</td>\n",
       "        <td>775.0</td>\n",
       "    </tr>\n",
       "    <tr>\n",
       "        <td>Erlo</td>\n",
       "        <td>775.0</td>\n",
       "    </tr>\n",
       "    <tr>\n",
       "        <td>Neo</td>\n",
       "        <td>757.0</td>\n",
       "    </tr>\n",
       "    <tr>\n",
       "        <td>Neo</td>\n",
       "        <td>757.0</td>\n",
       "    </tr>\n",
       "    <tr>\n",
       "        <td>Neo</td>\n",
       "        <td>757.0</td>\n",
       "    </tr>\n",
       "    <tr>\n",
       "        <td>Neo</td>\n",
       "        <td>757.0</td>\n",
       "    </tr>\n",
       "    <tr>\n",
       "        <td>Janet</td>\n",
       "        <td>757.0</td>\n",
       "    </tr>\n",
       "    <tr>\n",
       "        <td>Janet</td>\n",
       "        <td>757.0</td>\n",
       "    </tr>\n",
       "    <tr>\n",
       "        <td>Janet</td>\n",
       "        <td>757.0</td>\n",
       "    </tr>\n",
       "    <tr>\n",
       "        <td>Janet</td>\n",
       "        <td>757.0</td>\n",
       "    </tr>\n",
       "    <tr>\n",
       "        <td>keith</td>\n",
       "        <td>745.0</td>\n",
       "    </tr>\n",
       "    <tr>\n",
       "        <td>keith</td>\n",
       "        <td>745.0</td>\n",
       "    </tr>\n",
       "    <tr>\n",
       "        <td>Lacin</td>\n",
       "        <td>699.0</td>\n",
       "    </tr>\n",
       "    <tr>\n",
       "        <td>S</td>\n",
       "        <td>692.0</td>\n",
       "    </tr>\n",
       "    <tr>\n",
       "        <td>S</td>\n",
       "        <td>692.0</td>\n",
       "    </tr>\n",
       "    <tr>\n",
       "        <td>Zelda</td>\n",
       "        <td>687.0</td>\n",
       "    </tr>\n",
       "    <tr>\n",
       "        <td>Zelda</td>\n",
       "        <td>687.0</td>\n",
       "    </tr>\n",
       "    <tr>\n",
       "        <td>Zelda</td>\n",
       "        <td>687.0</td>\n",
       "    </tr>\n",
       "    <tr>\n",
       "        <td>Hesta</td>\n",
       "        <td>638.0</td>\n",
       "    </tr>\n",
       "    <tr>\n",
       "        <td>Hesta</td>\n",
       "        <td>638.0</td>\n",
       "    </tr>\n",
       "    <tr>\n",
       "        <td>Lizelle</td>\n",
       "        <td>629.0</td>\n",
       "    </tr>\n",
       "    <tr>\n",
       "        <td>Willard</td>\n",
       "        <td>617.0</td>\n",
       "    </tr>\n",
       "    <tr>\n",
       "        <td>Willard</td>\n",
       "        <td>617.0</td>\n",
       "    </tr>\n",
       "    <tr>\n",
       "        <td>Willard</td>\n",
       "        <td>617.0</td>\n",
       "    </tr>\n",
       "    <tr>\n",
       "        <td>Jakobus</td>\n",
       "        <td>609.0</td>\n",
       "    </tr>\n",
       "    <tr>\n",
       "        <td>Jakobus</td>\n",
       "        <td>609.0</td>\n",
       "    </tr>\n",
       "    <tr>\n",
       "        <td>Ashleigh</td>\n",
       "        <td>607.0</td>\n",
       "    </tr>\n",
       "    <tr>\n",
       "        <td>Ashleigh</td>\n",
       "        <td>607.0</td>\n",
       "    </tr>\n",
       "    <tr>\n",
       "        <td>Ashleigh</td>\n",
       "        <td>607.0</td>\n",
       "    </tr>\n",
       "    <tr>\n",
       "        <td>Andisa Moleboheng</td>\n",
       "        <td>599.0</td>\n",
       "    </tr>\n",
       "    <tr>\n",
       "        <td>Mandla</td>\n",
       "        <td>589.0</td>\n",
       "    </tr>\n",
       "    <tr>\n",
       "        <td>Michael</td>\n",
       "        <td>550.0</td>\n",
       "    </tr>\n",
       "    <tr>\n",
       "        <td>Michael</td>\n",
       "        <td>550.0</td>\n",
       "    </tr>\n",
       "    <tr>\n",
       "        <td>Michael</td>\n",
       "        <td>550.0</td>\n",
       "    </tr>\n",
       "    <tr>\n",
       "        <td>Lizanie</td>\n",
       "        <td>540.0</td>\n",
       "    </tr>\n",
       "    <tr>\n",
       "        <td>Lizanie</td>\n",
       "        <td>540.0</td>\n",
       "    </tr>\n",
       "    <tr>\n",
       "        <td>Lizanie</td>\n",
       "        <td>540.0</td>\n",
       "    </tr>\n",
       "    <tr>\n",
       "        <td>Lizanie</td>\n",
       "        <td>540.0</td>\n",
       "    </tr>\n",
       "    <tr>\n",
       "        <td>Tammy</td>\n",
       "        <td>539.0</td>\n",
       "    </tr>\n",
       "    <tr>\n",
       "        <td>Dino</td>\n",
       "        <td>524.0</td>\n",
       "    </tr>\n",
       "    <tr>\n",
       "        <td>Dino</td>\n",
       "        <td>524.0</td>\n",
       "    </tr>\n",
       "    <tr>\n",
       "        <td>Dino</td>\n",
       "        <td>524.0</td>\n",
       "    </tr>\n",
       "    <tr>\n",
       "        <td>Gert</td>\n",
       "        <td>504.0</td>\n",
       "    </tr>\n",
       "    <tr>\n",
       "        <td>Gert</td>\n",
       "        <td>504.0</td>\n",
       "    </tr>\n",
       "    <tr>\n",
       "        <td>Monique</td>\n",
       "        <td>499.0</td>\n",
       "    </tr>\n",
       "    <tr>\n",
       "        <td>Aqeela</td>\n",
       "        <td>485.0</td>\n",
       "    </tr>\n",
       "    <tr>\n",
       "        <td>Aqeela</td>\n",
       "        <td>485.0</td>\n",
       "    </tr>\n",
       "    <tr>\n",
       "        <td>Aqeela</td>\n",
       "        <td>485.0</td>\n",
       "    </tr>\n",
       "    <tr>\n",
       "        <td>Aqeela</td>\n",
       "        <td>485.0</td>\n",
       "    </tr>\n",
       "    <tr>\n",
       "        <td>Annamarie</td>\n",
       "        <td>468.0</td>\n",
       "    </tr>\n",
       "    <tr>\n",
       "        <td>Annamarie</td>\n",
       "        <td>468.0</td>\n",
       "    </tr>\n",
       "    <tr>\n",
       "        <td>sayidah</td>\n",
       "        <td>467.0</td>\n",
       "    </tr>\n",
       "    <tr>\n",
       "        <td>sayidah</td>\n",
       "        <td>467.0</td>\n",
       "    </tr>\n",
       "    <tr>\n",
       "        <td>sayidah</td>\n",
       "        <td>467.0</td>\n",
       "    </tr>\n",
       "    <tr>\n",
       "        <td>Cornelis</td>\n",
       "        <td>459.0</td>\n",
       "    </tr>\n",
       "    <tr>\n",
       "        <td>Leigh</td>\n",
       "        <td>459.0</td>\n",
       "    </tr>\n",
       "    <tr>\n",
       "        <td>Tinus</td>\n",
       "        <td>450.0</td>\n",
       "    </tr>\n",
       "    <tr>\n",
       "        <td>dilshad</td>\n",
       "        <td>420.0</td>\n",
       "    </tr>\n",
       "    <tr>\n",
       "        <td>Rolf</td>\n",
       "        <td>420.0</td>\n",
       "    </tr>\n",
       "    <tr>\n",
       "        <td>Maryam</td>\n",
       "        <td>400.0</td>\n",
       "    </tr>\n",
       "    <tr>\n",
       "        <td>justin</td>\n",
       "        <td>400.0</td>\n",
       "    </tr>\n",
       "    <tr>\n",
       "        <td>Elize</td>\n",
       "        <td>398.0</td>\n",
       "    </tr>\n",
       "    <tr>\n",
       "        <td>Chelsea</td>\n",
       "        <td>389.0</td>\n",
       "    </tr>\n",
       "    <tr>\n",
       "        <td>Chelsea</td>\n",
       "        <td>389.0</td>\n",
       "    </tr>\n",
       "    <tr>\n",
       "        <td>Chelsea</td>\n",
       "        <td>389.0</td>\n",
       "    </tr>\n",
       "    <tr>\n",
       "        <td>lebogang</td>\n",
       "        <td>386.0</td>\n",
       "    </tr>\n",
       "    <tr>\n",
       "        <td>lebogang</td>\n",
       "        <td>386.0</td>\n",
       "    </tr>\n",
       "    <tr>\n",
       "        <td>lebogang</td>\n",
       "        <td>386.0</td>\n",
       "    </tr>\n",
       "    <tr>\n",
       "        <td>lebogang</td>\n",
       "        <td>386.0</td>\n",
       "    </tr>\n",
       "    <tr>\n",
       "        <td>Nico</td>\n",
       "        <td>357.0</td>\n",
       "    </tr>\n",
       "    <tr>\n",
       "        <td>Nico</td>\n",
       "        <td>357.0</td>\n",
       "    </tr>\n",
       "    <tr>\n",
       "        <td>Nicole</td>\n",
       "        <td>350.0</td>\n",
       "    </tr>\n",
       "    <tr>\n",
       "        <td>Anna</td>\n",
       "        <td>349.0</td>\n",
       "    </tr>\n",
       "    <tr>\n",
       "        <td>Johan</td>\n",
       "        <td>349.0</td>\n",
       "    </tr>\n",
       "    <tr>\n",
       "        <td>George</td>\n",
       "        <td>349.0</td>\n",
       "    </tr>\n",
       "    <tr>\n",
       "        <td>Cornelis</td>\n",
       "        <td>346.0</td>\n",
       "    </tr>\n",
       "    <tr>\n",
       "        <td>Cornelis</td>\n",
       "        <td>346.0</td>\n",
       "    </tr>\n",
       "    <tr>\n",
       "        <td>Cornelis</td>\n",
       "        <td>346.0</td>\n",
       "    </tr>\n",
       "    <tr>\n",
       "        <td>Cornelis</td>\n",
       "        <td>346.0</td>\n",
       "    </tr>\n",
       "    <tr>\n",
       "        <td>Andreas Peter</td>\n",
       "        <td>329.0</td>\n",
       "    </tr>\n",
       "    <tr>\n",
       "        <td>Beryl</td>\n",
       "        <td>329.0</td>\n",
       "    </tr>\n",
       "    <tr>\n",
       "        <td>Hein</td>\n",
       "        <td>328.0</td>\n",
       "    </tr>\n",
       "    <tr>\n",
       "        <td>Hein</td>\n",
       "        <td>328.0</td>\n",
       "    </tr>\n",
       "    <tr>\n",
       "        <td>Nenette</td>\n",
       "        <td>325.0</td>\n",
       "    </tr>\n",
       "    <tr>\n",
       "        <td>Leandre</td>\n",
       "        <td>325.0</td>\n",
       "    </tr>\n",
       "    <tr>\n",
       "        <td>Tshepo</td>\n",
       "        <td>319.0</td>\n",
       "    </tr>\n",
       "    <tr>\n",
       "        <td>Bianca</td>\n",
       "        <td>299.0</td>\n",
       "    </tr>\n",
       "    <tr>\n",
       "        <td>Lizzy</td>\n",
       "        <td>299.0</td>\n",
       "    </tr>\n",
       "    <tr>\n",
       "        <td>Dmitri</td>\n",
       "        <td>279.0</td>\n",
       "    </tr>\n",
       "    <tr>\n",
       "        <td>Claire</td>\n",
       "        <td>275.0</td>\n",
       "    </tr>\n",
       "    <tr>\n",
       "        <td>Janine</td>\n",
       "        <td>259.0</td>\n",
       "    </tr>\n",
       "    <tr>\n",
       "        <td>Karabo</td>\n",
       "        <td>250.0</td>\n",
       "    </tr>\n",
       "    <tr>\n",
       "        <td>SanÃ©</td>\n",
       "        <td>249.0</td>\n",
       "    </tr>\n",
       "    <tr>\n",
       "        <td>Theo</td>\n",
       "        <td>249.0</td>\n",
       "    </tr>\n",
       "    <tr>\n",
       "        <td>Reo</td>\n",
       "        <td>249.0</td>\n",
       "    </tr>\n",
       "    <tr>\n",
       "        <td>Freddie</td>\n",
       "        <td>249.0</td>\n",
       "    </tr>\n",
       "    <tr>\n",
       "        <td>William</td>\n",
       "        <td>245.0</td>\n",
       "    </tr>\n",
       "    <tr>\n",
       "        <td>Gerhard</td>\n",
       "        <td>239.0</td>\n",
       "    </tr>\n",
       "    <tr>\n",
       "        <td>Heather</td>\n",
       "        <td>239.0</td>\n",
       "    </tr>\n",
       "    <tr>\n",
       "        <td>Chaylem</td>\n",
       "        <td>238.0</td>\n",
       "    </tr>\n",
       "    <tr>\n",
       "        <td>Andreas Peter</td>\n",
       "        <td>238.0</td>\n",
       "    </tr>\n",
       "    <tr>\n",
       "        <td>Adeebah</td>\n",
       "        <td>229.0</td>\n",
       "    </tr>\n",
       "    <tr>\n",
       "        <td>shamil</td>\n",
       "        <td>229.0</td>\n",
       "    </tr>\n",
       "    <tr>\n",
       "        <td>Brigette</td>\n",
       "        <td>225.0</td>\n",
       "    </tr>\n",
       "    <tr>\n",
       "        <td>Brigette</td>\n",
       "        <td>225.0</td>\n",
       "    </tr>\n",
       "    <tr>\n",
       "        <td>Erlo</td>\n",
       "        <td>225.0</td>\n",
       "    </tr>\n",
       "    <tr>\n",
       "        <td>Erlo</td>\n",
       "        <td>225.0</td>\n",
       "    </tr>\n",
       "    <tr>\n",
       "        <td>Alicia</td>\n",
       "        <td>223.0</td>\n",
       "    </tr>\n",
       "    <tr>\n",
       "        <td>SEBINA</td>\n",
       "        <td>219.0</td>\n",
       "    </tr>\n",
       "    <tr>\n",
       "        <td>Anna</td>\n",
       "        <td>214.0</td>\n",
       "    </tr>\n",
       "    <tr>\n",
       "        <td>Anna</td>\n",
       "        <td>205.0</td>\n",
       "    </tr>\n",
       "    <tr>\n",
       "        <td>Wilfred Nkosinathi</td>\n",
       "        <td>199.0</td>\n",
       "    </tr>\n",
       "    <tr>\n",
       "        <td>Maryam</td>\n",
       "        <td>198.0</td>\n",
       "    </tr>\n",
       "    <tr>\n",
       "        <td>Janice</td>\n",
       "        <td>198.0</td>\n",
       "    </tr>\n",
       "    <tr>\n",
       "        <td>Erlo</td>\n",
       "        <td>198.0</td>\n",
       "    </tr>\n",
       "    <tr>\n",
       "        <td>Jana</td>\n",
       "        <td>195.0</td>\n",
       "    </tr>\n",
       "    <tr>\n",
       "        <td>Laura</td>\n",
       "        <td>195.0</td>\n",
       "    </tr>\n",
       "    <tr>\n",
       "        <td>Hester</td>\n",
       "        <td>189.0</td>\n",
       "    </tr>\n",
       "    <tr>\n",
       "        <td>Zanele</td>\n",
       "        <td>185.0</td>\n",
       "    </tr>\n",
       "    <tr>\n",
       "        <td>Nompumelelo</td>\n",
       "        <td>179.0</td>\n",
       "    </tr>\n",
       "    <tr>\n",
       "        <td>Jeandre</td>\n",
       "        <td>179.0</td>\n",
       "    </tr>\n",
       "    <tr>\n",
       "        <td>Therry</td>\n",
       "        <td>175.0</td>\n",
       "    </tr>\n",
       "    <tr>\n",
       "        <td>Therry</td>\n",
       "        <td>175.0</td>\n",
       "    </tr>\n",
       "    <tr>\n",
       "        <td>chantelle</td>\n",
       "        <td>175.0</td>\n",
       "    </tr>\n",
       "    <tr>\n",
       "        <td>Anita</td>\n",
       "        <td>170.0</td>\n",
       "    </tr>\n",
       "    <tr>\n",
       "        <td>Trevor</td>\n",
       "        <td>170.0</td>\n",
       "    </tr>\n",
       "    <tr>\n",
       "        <td>Sue</td>\n",
       "        <td>169.0</td>\n",
       "    </tr>\n",
       "    <tr>\n",
       "        <td>kelly</td>\n",
       "        <td>150.0</td>\n",
       "    </tr>\n",
       "    <tr>\n",
       "        <td>Cornelis</td>\n",
       "        <td>150.0</td>\n",
       "    </tr>\n",
       "    <tr>\n",
       "        <td>Cindy</td>\n",
       "        <td>150.0</td>\n",
       "    </tr>\n",
       "    <tr>\n",
       "        <td>Hendrik</td>\n",
       "        <td>149.0</td>\n",
       "    </tr>\n",
       "    <tr>\n",
       "        <td>Charlene</td>\n",
       "        <td>149.0</td>\n",
       "    </tr>\n",
       "    <tr>\n",
       "        <td>Ian</td>\n",
       "        <td>149.0</td>\n",
       "    </tr>\n",
       "    <tr>\n",
       "        <td>Sasha</td>\n",
       "        <td>149.0</td>\n",
       "    </tr>\n",
       "    <tr>\n",
       "        <td>Lelethu</td>\n",
       "        <td>149.0</td>\n",
       "    </tr>\n",
       "    <tr>\n",
       "        <td>Marco</td>\n",
       "        <td>145.0</td>\n",
       "    </tr>\n",
       "    <tr>\n",
       "        <td>Wendy</td>\n",
       "        <td>145.0</td>\n",
       "    </tr>\n",
       "    <tr>\n",
       "        <td>Heather</td>\n",
       "        <td>145.0</td>\n",
       "    </tr>\n",
       "    <tr>\n",
       "        <td>Jaco</td>\n",
       "        <td>139.0</td>\n",
       "    </tr>\n",
       "    <tr>\n",
       "        <td>Timothy</td>\n",
       "        <td>139.0</td>\n",
       "    </tr>\n",
       "    <tr>\n",
       "        <td>Boitumelo</td>\n",
       "        <td>135.0</td>\n",
       "    </tr>\n",
       "    <tr>\n",
       "        <td>Rumbidzayi</td>\n",
       "        <td>135.0</td>\n",
       "    </tr>\n",
       "    <tr>\n",
       "        <td>berthel</td>\n",
       "        <td>135.0</td>\n",
       "    </tr>\n",
       "    <tr>\n",
       "        <td>Andrew</td>\n",
       "        <td>126.0</td>\n",
       "    </tr>\n",
       "    <tr>\n",
       "        <td>Andrew</td>\n",
       "        <td>126.0</td>\n",
       "    </tr>\n",
       "    <tr>\n",
       "        <td>Andrew</td>\n",
       "        <td>126.0</td>\n",
       "    </tr>\n",
       "    <tr>\n",
       "        <td>Stephan</td>\n",
       "        <td>126.0</td>\n",
       "    </tr>\n",
       "    <tr>\n",
       "        <td>Shameer</td>\n",
       "        <td>126.0</td>\n",
       "    </tr>\n",
       "    <tr>\n",
       "        <td>Cornelis</td>\n",
       "        <td>124.0</td>\n",
       "    </tr>\n",
       "    <tr>\n",
       "        <td>Johann</td>\n",
       "        <td>124.0</td>\n",
       "    </tr>\n",
       "    <tr>\n",
       "        <td>Khosi</td>\n",
       "        <td>119.0</td>\n",
       "    </tr>\n",
       "    <tr>\n",
       "        <td>Cornelis</td>\n",
       "        <td>116.0</td>\n",
       "    </tr>\n",
       "    <tr>\n",
       "        <td>Cornelis</td>\n",
       "        <td>116.0</td>\n",
       "    </tr>\n",
       "    <tr>\n",
       "        <td>cordelia</td>\n",
       "        <td>115.0</td>\n",
       "    </tr>\n",
       "    <tr>\n",
       "        <td>Sheila</td>\n",
       "        <td>112.0</td>\n",
       "    </tr>\n",
       "    <tr>\n",
       "        <td>Madelein</td>\n",
       "        <td>110.0</td>\n",
       "    </tr>\n",
       "    <tr>\n",
       "        <td>Keneilwe</td>\n",
       "        <td>107.0</td>\n",
       "    </tr>\n",
       "    <tr>\n",
       "        <td>Emily</td>\n",
       "        <td>107.0</td>\n",
       "    </tr>\n",
       "    <tr>\n",
       "        <td>Faristha</td>\n",
       "        <td>99.0</td>\n",
       "    </tr>\n",
       "    <tr>\n",
       "        <td>Cornell</td>\n",
       "        <td>99.0</td>\n",
       "    </tr>\n",
       "    <tr>\n",
       "        <td>Erlo</td>\n",
       "        <td>99.0</td>\n",
       "    </tr>\n",
       "    <tr>\n",
       "        <td>Siphesihle</td>\n",
       "        <td>99.0</td>\n",
       "    </tr>\n",
       "    <tr>\n",
       "        <td>Neville</td>\n",
       "        <td>99.0</td>\n",
       "    </tr>\n",
       "    <tr>\n",
       "        <td>Eugene</td>\n",
       "        <td>94.0</td>\n",
       "    </tr>\n",
       "    <tr>\n",
       "        <td>Conrad</td>\n",
       "        <td>93.0</td>\n",
       "    </tr>\n",
       "    <tr>\n",
       "        <td>Dimitri</td>\n",
       "        <td>88.0</td>\n",
       "    </tr>\n",
       "    <tr>\n",
       "        <td>Janine</td>\n",
       "        <td>85.0</td>\n",
       "    </tr>\n",
       "    <tr>\n",
       "        <td>Lyle</td>\n",
       "        <td>81.0</td>\n",
       "    </tr>\n",
       "    <tr>\n",
       "        <td>Anna</td>\n",
       "        <td>79.0</td>\n",
       "    </tr>\n",
       "    <tr>\n",
       "        <td>Thabiso</td>\n",
       "        <td>79.0</td>\n",
       "    </tr>\n",
       "    <tr>\n",
       "        <td>elismary</td>\n",
       "        <td>79.0</td>\n",
       "    </tr>\n",
       "    <tr>\n",
       "        <td>Tuwani</td>\n",
       "        <td>78.0</td>\n",
       "    </tr>\n",
       "    <tr>\n",
       "        <td>JOHAN</td>\n",
       "        <td>75.0</td>\n",
       "    </tr>\n",
       "    <tr>\n",
       "        <td>Jessica</td>\n",
       "        <td>75.0</td>\n",
       "    </tr>\n",
       "    <tr>\n",
       "        <td>Marius</td>\n",
       "        <td>74.0</td>\n",
       "    </tr>\n",
       "    <tr>\n",
       "        <td>Philip</td>\n",
       "        <td>66.0</td>\n",
       "    </tr>\n",
       "    <tr>\n",
       "        <td>Lacin</td>\n",
       "        <td>66.0</td>\n",
       "    </tr>\n",
       "    <tr>\n",
       "        <td>Ridhaa</td>\n",
       "        <td>58.0</td>\n",
       "    </tr>\n",
       "    <tr>\n",
       "        <td>Nokuthula</td>\n",
       "        <td>55.0</td>\n",
       "    </tr>\n",
       "    <tr>\n",
       "        <td>Rozelle</td>\n",
       "        <td>54.0</td>\n",
       "    </tr>\n",
       "    <tr>\n",
       "        <td>Eathon</td>\n",
       "        <td>53.0</td>\n",
       "    </tr>\n",
       "    <tr>\n",
       "        <td>shamil</td>\n",
       "        <td>52.0</td>\n",
       "    </tr>\n",
       "    <tr>\n",
       "        <td>Zanele</td>\n",
       "        <td>50.0</td>\n",
       "    </tr>\n",
       "    <tr>\n",
       "        <td>Andiswa</td>\n",
       "        <td>50.0</td>\n",
       "    </tr>\n",
       "    <tr>\n",
       "        <td>Paul</td>\n",
       "        <td>50.0</td>\n",
       "    </tr>\n",
       "    <tr>\n",
       "        <td>Enid</td>\n",
       "        <td>49.0</td>\n",
       "    </tr>\n",
       "    <tr>\n",
       "        <td>Lauriaan</td>\n",
       "        <td>49.0</td>\n",
       "    </tr>\n",
       "    <tr>\n",
       "        <td>Patricia</td>\n",
       "        <td>46.0</td>\n",
       "    </tr>\n",
       "    <tr>\n",
       "        <td>Nomfanelo</td>\n",
       "        <td>45.0</td>\n",
       "    </tr>\n",
       "    <tr>\n",
       "        <td>Sandra</td>\n",
       "        <td>44.0</td>\n",
       "    </tr>\n",
       "    <tr>\n",
       "        <td>Sheila</td>\n",
       "        <td>44.0</td>\n",
       "    </tr>\n",
       "    <tr>\n",
       "        <td>Vanessa</td>\n",
       "        <td>39.0</td>\n",
       "    </tr>\n",
       "    <tr>\n",
       "        <td>Riaan</td>\n",
       "        <td>39.0</td>\n",
       "    </tr>\n",
       "    <tr>\n",
       "        <td>Casey</td>\n",
       "        <td>39.0</td>\n",
       "    </tr>\n",
       "    <tr>\n",
       "        <td>Erlo</td>\n",
       "        <td>39.0</td>\n",
       "    </tr>\n",
       "    <tr>\n",
       "        <td>Lutendo</td>\n",
       "        <td>39.0</td>\n",
       "    </tr>\n",
       "    <tr>\n",
       "        <td>Dawn</td>\n",
       "        <td>39.0</td>\n",
       "    </tr>\n",
       "    <tr>\n",
       "        <td>Jan-Hendrik</td>\n",
       "        <td>35.0</td>\n",
       "    </tr>\n",
       "    <tr>\n",
       "        <td>Julie Martina</td>\n",
       "        <td>34.0</td>\n",
       "    </tr>\n",
       "    <tr>\n",
       "        <td>Lacin</td>\n",
       "        <td>30.0</td>\n",
       "    </tr>\n",
       "    <tr>\n",
       "        <td>Scotty</td>\n",
       "        <td>29.0</td>\n",
       "    </tr>\n",
       "    <tr>\n",
       "        <td>Nick</td>\n",
       "        <td>23.0</td>\n",
       "    </tr>\n",
       "    <tr>\n",
       "        <td>Wayne</td>\n",
       "        <td>23.0</td>\n",
       "    </tr>\n",
       "    <tr>\n",
       "        <td>Janine</td>\n",
       "        <td>13.0</td>\n",
       "    </tr>\n",
       "    <tr>\n",
       "        <td>Cindy</td>\n",
       "        <td>12.0</td>\n",
       "    </tr>\n",
       "    <tr>\n",
       "        <td>Michelle</td>\n",
       "        <td>10.0</td>\n",
       "    </tr>\n",
       "    <tr>\n",
       "        <td>Ridhaa</td>\n",
       "        <td>1.0</td>\n",
       "    </tr>\n",
       "</table>"
      ],
      "text/plain": [
       "[('Mandla', 10999.0),\n",
       " ('Brigette', 10999.0),\n",
       " ('Andreas Peter', 3765.0),\n",
       " ('Mzoxolo', 3765.0),\n",
       " ('Zanele', 3464.0),\n",
       " ('Zanele', 3464.0),\n",
       " ('Zanele', 3464.0),\n",
       " ('Junaid', 3301.0),\n",
       " ('Junaid', 3301.0),\n",
       " ('Junaid', 3301.0),\n",
       " ('Junaid', 3301.0),\n",
       " ('Melandi', 2535.0),\n",
       " ('Melandi', 2535.0),\n",
       " ('Melandi', 2535.0),\n",
       " ('Todani', 2299.0),\n",
       " ('Cindy', 1999.0),\n",
       " ('Anonymous', 1999.0),\n",
       " ('Margaret', 1716.0),\n",
       " ('Margaret', 1716.0),\n",
       " ('Margaret', 1716.0),\n",
       " ('Margaret', 1716.0),\n",
       " ('DIMPHO', 1523.0),\n",
       " ('DIMPHO', 1523.0),\n",
       " ('DIMPHO', 1523.0),\n",
       " ('DIMPHO', 1523.0),\n",
       " ('Mandla', 1351.0),\n",
       " ('Mandla', 1351.0),\n",
       " ('Mandla', 1351.0),\n",
       " ('Hanno', 1334.0),\n",
       " ('Hanno', 1334.0),\n",
       " ('Hanno', 1334.0),\n",
       " ('Adele', 1177.0),\n",
       " ('Adele', 1177.0),\n",
       " ('Adele', 1177.0),\n",
       " ('Karyn', 1137.0),\n",
       " ('Karyn', 1137.0),\n",
       " ('Karyn', 1137.0),\n",
       " ('Daffy', 1134.0),\n",
       " ('Daffy', 1134.0),\n",
       " ('Daffy', 1134.0),\n",
       " ('Daffy', 1134.0),\n",
       " ('Mel', 1114.0),\n",
       " ('Mel', 1114.0),\n",
       " ('Mel', 1114.0),\n",
       " ('Mel', 1114.0),\n",
       " ('Vincent', 999.0),\n",
       " ('Waylenn', 899.0),\n",
       " ('Leonard', 899.0),\n",
       " ('Heather', 897.0),\n",
       " ('Heather', 897.0),\n",
       " ('Heather', 897.0),\n",
       " ('Heather', 897.0),\n",
       " ('Zanele', 840.0),\n",
       " ('Melokuhle', 816.0),\n",
       " ('Melokuhle', 816.0),\n",
       " ('Melokuhle', 816.0),\n",
       " ('Melokuhle', 816.0),\n",
       " ('Clodeane', 815.0),\n",
       " ('GRANT', 802.0),\n",
       " ('GRANT', 802.0),\n",
       " ('GRANT', 802.0),\n",
       " ('Carel', 799.0),\n",
       " ('Lacin', 798.0),\n",
       " ('Kelsey Brynne', 798.0),\n",
       " ('Hugo', 794.0),\n",
       " ('Hugo', 794.0),\n",
       " ('Hugo', 794.0),\n",
       " ('Erlo', 775.0),\n",
       " ('Erlo', 775.0),\n",
       " ('Erlo', 775.0),\n",
       " ('Neo', 757.0),\n",
       " ('Neo', 757.0),\n",
       " ('Neo', 757.0),\n",
       " ('Neo', 757.0),\n",
       " ('Janet', 757.0),\n",
       " ('Janet', 757.0),\n",
       " ('Janet', 757.0),\n",
       " ('Janet', 757.0),\n",
       " ('keith', 745.0),\n",
       " ('keith', 745.0),\n",
       " ('Lacin', 699.0),\n",
       " ('S', 692.0),\n",
       " ('S', 692.0),\n",
       " ('Zelda', 687.0),\n",
       " ('Zelda', 687.0),\n",
       " ('Zelda', 687.0),\n",
       " ('Hesta', 638.0),\n",
       " ('Hesta', 638.0),\n",
       " ('Lizelle', 629.0),\n",
       " ('Willard', 617.0),\n",
       " ('Willard', 617.0),\n",
       " ('Willard', 617.0),\n",
       " ('Jakobus', 609.0),\n",
       " ('Jakobus', 609.0),\n",
       " ('Ashleigh', 607.0),\n",
       " ('Ashleigh', 607.0),\n",
       " ('Ashleigh', 607.0),\n",
       " ('Andisa Moleboheng', 599.0),\n",
       " ('Mandla', 589.0),\n",
       " ('Michael', 550.0),\n",
       " ('Michael', 550.0),\n",
       " ('Michael', 550.0),\n",
       " ('Lizanie', 540.0),\n",
       " ('Lizanie', 540.0),\n",
       " ('Lizanie', 540.0),\n",
       " ('Lizanie', 540.0),\n",
       " ('Tammy', 539.0),\n",
       " ('Dino', 524.0),\n",
       " ('Dino', 524.0),\n",
       " ('Dino', 524.0),\n",
       " ('Gert', 504.0),\n",
       " ('Gert', 504.0),\n",
       " ('Monique', 499.0),\n",
       " ('Aqeela', 485.0),\n",
       " ('Aqeela', 485.0),\n",
       " ('Aqeela', 485.0),\n",
       " ('Aqeela', 485.0),\n",
       " ('Annamarie', 468.0),\n",
       " ('Annamarie', 468.0),\n",
       " ('sayidah', 467.0),\n",
       " ('sayidah', 467.0),\n",
       " ('sayidah', 467.0),\n",
       " ('Cornelis', 459.0),\n",
       " ('Leigh', 459.0),\n",
       " ('Tinus', 450.0),\n",
       " ('dilshad', 420.0),\n",
       " ('Rolf', 420.0),\n",
       " ('Maryam', 400.0),\n",
       " ('justin', 400.0),\n",
       " ('Elize', 398.0),\n",
       " ('Chelsea', 389.0),\n",
       " ('Chelsea', 389.0),\n",
       " ('Chelsea', 389.0),\n",
       " ('lebogang', 386.0),\n",
       " ('lebogang', 386.0),\n",
       " ('lebogang', 386.0),\n",
       " ('lebogang', 386.0),\n",
       " ('Nico', 357.0),\n",
       " ('Nico', 357.0),\n",
       " ('Nicole', 350.0),\n",
       " ('Anna', 349.0),\n",
       " ('Johan', 349.0),\n",
       " ('George', 349.0),\n",
       " ('Cornelis', 346.0),\n",
       " ('Cornelis', 346.0),\n",
       " ('Cornelis', 346.0),\n",
       " ('Cornelis', 346.0),\n",
       " ('Andreas Peter', 329.0),\n",
       " ('Beryl', 329.0),\n",
       " ('Hein', 328.0),\n",
       " ('Hein', 328.0),\n",
       " ('Nenette', 325.0),\n",
       " ('Leandre', 325.0),\n",
       " ('Tshepo', 319.0),\n",
       " ('Bianca', 299.0),\n",
       " ('Lizzy', 299.0),\n",
       " ('Dmitri', 279.0),\n",
       " ('Claire', 275.0),\n",
       " ('Janine', 259.0),\n",
       " ('Karabo', 250.0),\n",
       " ('SanÃ©', 249.0),\n",
       " ('Theo', 249.0),\n",
       " ('Reo', 249.0),\n",
       " ('Freddie', 249.0),\n",
       " ('William', 245.0),\n",
       " ('Gerhard', 239.0),\n",
       " ('Heather', 239.0),\n",
       " ('Chaylem', 238.0),\n",
       " ('Andreas Peter', 238.0),\n",
       " ('Adeebah', 229.0),\n",
       " ('shamil', 229.0),\n",
       " ('Brigette', 225.0),\n",
       " ('Brigette', 225.0),\n",
       " ('Erlo', 225.0),\n",
       " ('Erlo', 225.0),\n",
       " ('Alicia', 223.0),\n",
       " ('SEBINA', 219.0),\n",
       " ('Anna', 214.0),\n",
       " ('Anna', 205.0),\n",
       " ('Wilfred Nkosinathi', 199.0),\n",
       " ('Maryam', 198.0),\n",
       " ('Janice', 198.0),\n",
       " ('Erlo', 198.0),\n",
       " ('Jana', 195.0),\n",
       " ('Laura', 195.0),\n",
       " ('Hester', 189.0),\n",
       " ('Zanele', 185.0),\n",
       " ('Nompumelelo', 179.0),\n",
       " ('Jeandre', 179.0),\n",
       " ('Therry', 175.0),\n",
       " ('Therry', 175.0),\n",
       " ('chantelle', 175.0),\n",
       " ('Anita', 170.0),\n",
       " ('Trevor', 170.0),\n",
       " ('Sue', 169.0),\n",
       " ('kelly', 150.0),\n",
       " ('Cornelis', 150.0),\n",
       " ('Cindy', 150.0),\n",
       " ('Hendrik', 149.0),\n",
       " ('Charlene', 149.0),\n",
       " ('Ian', 149.0),\n",
       " ('Sasha', 149.0),\n",
       " ('Lelethu', 149.0),\n",
       " ('Marco', 145.0),\n",
       " ('Wendy', 145.0),\n",
       " ('Heather', 145.0),\n",
       " ('Jaco', 139.0),\n",
       " ('Timothy', 139.0),\n",
       " ('Boitumelo', 135.0),\n",
       " ('Rumbidzayi', 135.0),\n",
       " ('berthel', 135.0),\n",
       " ('Andrew', 126.0),\n",
       " ('Andrew', 126.0),\n",
       " ('Andrew', 126.0),\n",
       " ('Stephan', 126.0),\n",
       " ('Shameer', 126.0),\n",
       " ('Cornelis', 124.0),\n",
       " ('Johann', 124.0),\n",
       " ('Khosi', 119.0),\n",
       " ('Cornelis', 116.0),\n",
       " ('Cornelis', 116.0),\n",
       " ('cordelia', 115.0),\n",
       " ('Sheila', 112.0),\n",
       " ('Madelein', 110.0),\n",
       " ('Keneilwe', 107.0),\n",
       " ('Emily', 107.0),\n",
       " ('Faristha', 99.0),\n",
       " ('Cornell', 99.0),\n",
       " ('Erlo', 99.0),\n",
       " ('Siphesihle', 99.0),\n",
       " ('Neville', 99.0),\n",
       " ('Eugene', 94.0),\n",
       " ('Conrad', 93.0),\n",
       " ('Dimitri', 88.0),\n",
       " ('Janine', 85.0),\n",
       " ('Lyle', 81.0),\n",
       " ('Anna', 79.0),\n",
       " ('Thabiso', 79.0),\n",
       " ('elismary', 79.0),\n",
       " ('Tuwani', 78.0),\n",
       " ('JOHAN', 75.0),\n",
       " ('Jessica', 75.0),\n",
       " ('Marius', 74.0),\n",
       " ('Philip', 66.0),\n",
       " ('Lacin', 66.0),\n",
       " ('Ridhaa', 58.0),\n",
       " ('Nokuthula', 55.0),\n",
       " ('Rozelle', 54.0),\n",
       " ('Eathon', 53.0),\n",
       " ('shamil', 52.0),\n",
       " ('Zanele', 50.0),\n",
       " ('Andiswa', 50.0),\n",
       " ('Paul', 50.0),\n",
       " ('Enid', 49.0),\n",
       " ('Lauriaan', 49.0),\n",
       " ('Patricia', 46.0),\n",
       " ('Nomfanelo', 45.0),\n",
       " ('Sandra', 44.0),\n",
       " ('Sheila', 44.0),\n",
       " ('Vanessa', 39.0),\n",
       " ('Riaan', 39.0),\n",
       " ('Casey', 39.0),\n",
       " ('Erlo', 39.0),\n",
       " ('Lutendo', 39.0),\n",
       " ('Dawn', 39.0),\n",
       " ('Jan-Hendrik', 35.0),\n",
       " ('Julie Martina', 34.0),\n",
       " ('Lacin', 30.0),\n",
       " ('Scotty', 29.0),\n",
       " ('Nick', 23.0),\n",
       " ('Wayne', 23.0),\n",
       " ('Janine', 13.0),\n",
       " ('Cindy', 12.0),\n",
       " ('Michelle', 10.0),\n",
       " ('Ridhaa', 1.0)]"
      ]
     },
     "execution_count": 74,
     "metadata": {},
     "output_type": "execute_result"
    }
   ],
   "source": [
    "%%sql\n",
    "Select u.UserName, c.Total\n",
    "From Carts_3NF c\n",
    "Join Transactions_3NF t on t.CartID = c.CartID\n",
    "Join Users_3NF u ON u.UserID = t.UserID\n",
    "Order BY 2 DESc"
   ]
  },
  {
   "cell_type": "markdown",
   "metadata": {
    "id": "Ik1EeR1dGE04"
   },
   "source": [
    "Q5) How many components does the product: \"5m Colour Changing RGB LED Strip Light\" (MPTAL57588104) come with?"
   ]
  },
  {
   "cell_type": "code",
   "execution_count": 75,
   "metadata": {},
   "outputs": [
    {
     "name": "stdout",
     "output_type": "stream",
     "text": [
      " * sqlite:///bhejane.db\n",
      "Done.\n"
     ]
    },
    {
     "data": {
      "text/html": [
       "<table>\n",
       "    <tr>\n",
       "        <th>COUNT(*)</th>\n",
       "    </tr>\n",
       "    <tr>\n",
       "        <td>8</td>\n",
       "    </tr>\n",
       "</table>"
      ],
      "text/plain": [
       "[(8,)]"
      ]
     },
     "execution_count": 75,
     "metadata": {},
     "output_type": "execute_result"
    }
   ],
   "source": [
    "%%sql\n",
    "select COUNT(*) from Products_3NF\n",
    "where Barcode = 'MPTAL57588104'"
   ]
  },
  {
   "cell_type": "markdown",
   "metadata": {
    "id": "CLNf-BoGGE04"
   },
   "source": [
    "Q6) How many brands are available at Bhejane?"
   ]
  },
  {
   "cell_type": "code",
   "execution_count": 76,
   "metadata": {},
   "outputs": [
    {
     "name": "stdout",
     "output_type": "stream",
     "text": [
      " * sqlite:///bhejane.db\n",
      "Done.\n"
     ]
    },
    {
     "data": {
      "text/html": [
       "<table>\n",
       "    <tr>\n",
       "        <th>count(Distinct BrandID)</th>\n",
       "    </tr>\n",
       "    <tr>\n",
       "        <td>232</td>\n",
       "    </tr>\n",
       "</table>"
      ],
      "text/plain": [
       "[(232,)]"
      ]
     },
     "execution_count": 76,
     "metadata": {},
     "output_type": "execute_result"
    }
   ],
   "source": [
    "%%sql\n",
    "Select count(Distinct BrandID) from Products_3NF\n"
   ]
  },
  {
   "cell_type": "markdown",
   "metadata": {},
   "source": [
    "7) What is the price of the \"Verimark - Floorwiz 2in1 Mop\"?"
   ]
  },
  {
   "cell_type": "code",
   "execution_count": 77,
   "metadata": {
    "id": "2bQwTSaAGE05",
    "scrolled": true
   },
   "outputs": [
    {
     "name": "stdout",
     "output_type": "stream",
     "text": [
      " * sqlite:///bhejane.db\n",
      "Done.\n"
     ]
    },
    {
     "data": {
      "text/html": [
       "<table>\n",
       "    <tr>\n",
       "        <th>Price</th>\n",
       "    </tr>\n",
       "    <tr>\n",
       "        <td>179.0</td>\n",
       "    </tr>\n",
       "    <tr>\n",
       "        <td>179.0</td>\n",
       "    </tr>\n",
       "    <tr>\n",
       "        <td>179.0</td>\n",
       "    </tr>\n",
       "</table>"
      ],
      "text/plain": [
       "[(179.0,), (179.0,), (179.0,)]"
      ]
     },
     "execution_count": 77,
     "metadata": {},
     "output_type": "execute_result"
    }
   ],
   "source": [
    "%%sql\n",
    "-- Write your query here:\n",
    "Select Price from Products_3NF\n",
    "Where ProductDescription = \"Verimark - Floorwiz 2in1 Mop\"\n"
   ]
  },
  {
   "cell_type": "markdown",
   "metadata": {
    "id": "BGaE5N7nGE04"
   },
   "source": [
    "Q8) Calculate the package volume of the \"Russell Hobbs - Slow Cooker\" using the given dimensions"
   ]
  },
  {
   "cell_type": "code",
   "execution_count": 78,
   "metadata": {
    "id": "4pOPg-jAGE04"
   },
   "outputs": [
    {
     "name": "stdout",
     "output_type": "stream",
     "text": [
      " * sqlite:///bhejane.db\n",
      "Done.\n"
     ]
    },
    {
     "data": {
      "text/html": [
       "<table>\n",
       "    <tr>\n",
       "        <th>Volume</th>\n",
       "    </tr>\n",
       "    <tr>\n",
       "        <td>26928.0</td>\n",
       "    </tr>\n",
       "    <tr>\n",
       "        <td>26928.0</td>\n",
       "    </tr>\n",
       "    <tr>\n",
       "        <td>26928.0</td>\n",
       "    </tr>\n",
       "    <tr>\n",
       "        <td>26928.0</td>\n",
       "    </tr>\n",
       "</table>"
      ],
      "text/plain": [
       "[(26928.0,), (26928.0,), (26928.0,), (26928.0,)]"
      ]
     },
     "execution_count": 78,
     "metadata": {},
     "output_type": "execute_result"
    }
   ],
   "source": [
    "%%sql\n",
    "-- Write your query here:\n",
    "select ROUND(Length*Width*Height) AS Volume\n",
    "from Products_3NF\n",
    "Where ProductDescription =  \"Russell Hobbs - Slow Cooker\""
   ]
  },
  {
   "cell_type": "markdown",
   "metadata": {
    "id": "ZDogodiAGE04"
   },
   "source": [
    "Q9) Which user made the most transactions in the Year 2020?"
   ]
  },
  {
   "cell_type": "code",
   "execution_count": 79,
   "metadata": {
    "id": "PVUj_9THGE04"
   },
   "outputs": [
    {
     "name": "stdout",
     "output_type": "stream",
     "text": [
      " * sqlite:///bhejane.db\n",
      "Done.\n"
     ]
    },
    {
     "data": {
      "text/html": [
       "<table>\n",
       "    <tr>\n",
       "        <th>UserName</th>\n",
       "        <th>COUNT(*)</th>\n",
       "    </tr>\n",
       "    <tr>\n",
       "        <td>Cornelis</td>\n",
       "        <td>9</td>\n",
       "    </tr>\n",
       "</table>"
      ],
      "text/plain": [
       "[('Cornelis', 9)]"
      ]
     },
     "execution_count": 79,
     "metadata": {},
     "output_type": "execute_result"
    }
   ],
   "source": [
    "%%sql\n",
    "-- Write your query here:\n",
    "SELECT u.UserName, COUNT(*)\n",
    "  FROM Carts_3NF c\n",
    "  JOIN Transactions_3NF t\n",
    "    ON c.CartID = t.CartID\n",
    "  JOIN Users_3NF u\n",
    "    ON u.UserID = t.UserID\n",
    " WHERE SUBSTR(c.InvoiceDate, 1,4) = '2020'\n",
    " GROUP BY 1\n",
    " ORDER BY 2 DESC\n",
    " LIMIT 1\n"
   ]
  },
  {
   "cell_type": "markdown",
   "metadata": {
    "id": "A_5dz4coGE04"
   },
   "source": [
    "Q10) What is the total number of users that shop at Bhejane?"
   ]
  },
  {
   "cell_type": "code",
   "execution_count": 80,
   "metadata": {
    "id": "gVDNbI7pGE04"
   },
   "outputs": [
    {
     "name": "stdout",
     "output_type": "stream",
     "text": [
      " * sqlite:///bhejane.db\n",
      "Done.\n"
     ]
    },
    {
     "data": {
      "text/html": [
       "<table>\n",
       "    <tr>\n",
       "        <th>count(distinct UserID)</th>\n",
       "    </tr>\n",
       "    <tr>\n",
       "        <td>158</td>\n",
       "    </tr>\n",
       "</table>"
      ],
      "text/plain": [
       "[(158,)]"
      ]
     },
     "execution_count": 80,
     "metadata": {},
     "output_type": "execute_result"
    }
   ],
   "source": [
    "%%sql\n",
    "-- Write your query here:\n",
    "select count(distinct UserID)\n",
    "from Users_3NF\n"
   ]
  },
  {
   "cell_type": "markdown",
   "metadata": {
    "id": "8AS0LCOaGE04"
   },
   "source": [
    "Q11) What is the record count for the Colours_3NF Table?"
   ]
  },
  {
   "cell_type": "code",
   "execution_count": 81,
   "metadata": {
    "id": "9UdfWoubGE04"
   },
   "outputs": [
    {
     "name": "stdout",
     "output_type": "stream",
     "text": [
      " * sqlite:///bhejane.db\n",
      "Done.\n"
     ]
    },
    {
     "data": {
      "text/html": [
       "<table>\n",
       "    <tr>\n",
       "        <th>COunt(*)</th>\n",
       "    </tr>\n",
       "    <tr>\n",
       "        <td>17</td>\n",
       "    </tr>\n",
       "</table>"
      ],
      "text/plain": [
       "[(17,)]"
      ]
     },
     "execution_count": 81,
     "metadata": {},
     "output_type": "execute_result"
    }
   ],
   "source": [
    "%%sql\n",
    "-- Write your query here:\n",
    "Select COunt(*) From Colours_3NF\n"
   ]
  },
  {
   "cell_type": "markdown",
   "metadata": {
    "id": "TINkZg-7GE05"
   },
   "source": [
    "Q12) What would the total price be if I had the following items in my cart?\n",
    "* MPTAL57588104\n",
    "* 5000394203921\n",
    "* 6932391917652"
   ]
  },
  {
   "cell_type": "code",
   "execution_count": 82,
   "metadata": {
    "id": "82Bmwr7bGE05"
   },
   "outputs": [
    {
     "name": "stdout",
     "output_type": "stream",
     "text": [
      " * sqlite:///bhejane.db\n",
      "Done.\n"
     ]
    },
    {
     "data": {
      "text/html": [
       "<table>\n",
       "    <tr>\n",
       "        <th>SUM(Price)</th>\n",
       "    </tr>\n",
       "    <tr>\n",
       "        <td>734.0</td>\n",
       "    </tr>\n",
       "</table>"
      ],
      "text/plain": [
       "[(734.0,)]"
      ]
     },
     "execution_count": 82,
     "metadata": {},
     "output_type": "execute_result"
    }
   ],
   "source": [
    "%%sql\n",
    "-- Write your query here:\n",
    "WITH Cart_list AS(\n",
    "SELECT DISTINCT Barcode, Price\n",
    "  FROM Products_3NF\n",
    " WHERE Barcode = 'MPTAL57588104' OR Barcode = '5000394203921' OR Barcode = '6932391917652'\n",
    "\n",
    ")\n",
    "SELECT SUM(Price)\n",
    "  FROM Cart_list\n"
   ]
  },
  {
   "cell_type": "markdown",
   "metadata": {
    "id": "DGhN2UuaGE04"
   },
   "source": [
    "Q13) What is the barcode of the most sold product?"
   ]
  },
  {
   "cell_type": "code",
   "execution_count": 83,
   "metadata": {
    "id": "t5w4A2l1GE04"
   },
   "outputs": [
    {
     "name": "stdout",
     "output_type": "stream",
     "text": [
      " * sqlite:///bhejane.db\n",
      "Done.\n"
     ]
    },
    {
     "data": {
      "text/html": [
       "<table>\n",
       "    <tr>\n",
       "        <th>Barcode</th>\n",
       "        <th>COUNT(*)</th>\n",
       "    </tr>\n",
       "    <tr>\n",
       "        <td>4015400541813</td>\n",
       "        <td>4</td>\n",
       "    </tr>\n",
       "</table>"
      ],
      "text/plain": [
       "[('4015400541813', 4)]"
      ]
     },
     "execution_count": 83,
     "metadata": {},
     "output_type": "execute_result"
    }
   ],
   "source": [
    "%%sql\n",
    "-- Write your query here:\n",
    "SELECT Barcode, COUNT(*)\n",
    "  FROM Transactions_3NF\n",
    " GROUP BY 1\n",
    " ORDER BY 2 DESC\n",
    " LIMIT 1\n",
    " "
   ]
  },
  {
   "cell_type": "markdown",
   "metadata": {},
   "source": [
    "Q14) What are the products of Cornelis’ cart on the 2020-06-28 0:00:00?"
   ]
  },
  {
   "cell_type": "code",
   "execution_count": 84,
   "metadata": {
    "id": "8xipCT9JGE04"
   },
   "outputs": [
    {
     "name": "stdout",
     "output_type": "stream",
     "text": [
      " * sqlite:///bhejane.db\n",
      "Done.\n"
     ]
    },
    {
     "data": {
      "text/html": [
       "<table>\n",
       "    <tr>\n",
       "        <th>ProductDescription</th>\n",
       "    </tr>\n",
       "    <tr>\n",
       "        <td>Dettol Body Wash - Shower Gel - Original - 600ml</td>\n",
       "    </tr>\n",
       "    <tr>\n",
       "        <td>Vitality Aloe Vera Gel 100ml</td>\n",
       "    </tr>\n",
       "    <tr>\n",
       "        <td>Sparq Active Resistance Loop Band - Set of 5 with Bag</td>\n",
       "    </tr>\n",
       "    <tr>\n",
       "        <td>Protective Face Shield</td>\n",
       "    </tr>\n",
       "</table>"
      ],
      "text/plain": [
       "[('Dettol Body Wash - Shower Gel - Original - 600ml',),\n",
       " ('Vitality Aloe Vera Gel 100ml',),\n",
       " ('Sparq Active Resistance Loop Band - Set of 5 with Bag',),\n",
       " ('Protective Face Shield',)]"
      ]
     },
     "execution_count": 84,
     "metadata": {},
     "output_type": "execute_result"
    }
   ],
   "source": [
    "%%sql\n",
    "-- Write your query here:\n",
    "WITH Sub_t AS(\n",
    "SELECT t.Barcode\n",
    "  FROM Carts_3NF c\n",
    "  JOIN Transactions_3NF t\n",
    "    ON c.CartID = t.CartID\n",
    "  JOIN Users_3NF u\n",
    "    ON u.UserID = t.UserId\n",
    " WHERE c.InvoiceDate = '2020-06-28 0:00:00' AND u.UserName = 'Cornelis'\n",
    ")\n",
    "\n",
    "SELECT DISTINCT p.ProductDescription\n",
    "  FROM Products_3NF p\n",
    "  JOIN Sub_t st\n",
    "    ON st.Barcode = p.Barcode\n"
   ]
  },
  {
   "cell_type": "markdown",
   "metadata": {},
   "source": [
    "Q15) Which users bought locally produced, black-coloured products on odd-numbered months of the year, and what was the total cost (rounded to the nearest integer) of the carts containing these products?"
   ]
  },
  {
   "cell_type": "code",
   "execution_count": 85,
   "metadata": {},
   "outputs": [
    {
     "name": "stdout",
     "output_type": "stream",
     "text": [
      " * sqlite:///bhejane.db\n",
      "Done.\n"
     ]
    },
    {
     "data": {
      "text/html": [
       "<table>\n",
       "    <tr>\n",
       "        <th>SUM(Total)</th>\n",
       "    </tr>\n",
       "    <tr>\n",
       "        <td>5580.0</td>\n",
       "    </tr>\n",
       "</table>"
      ],
      "text/plain": [
       "[(5580.0,)]"
      ]
     },
     "execution_count": 85,
     "metadata": {},
     "output_type": "execute_result"
    }
   ],
   "source": [
    "%%sql\n",
    "-- Write your query here:\n",
    "WITH Transacts AS(\n",
    "SELECT t.Barcode, u.UserName, c.Total\n",
    "  FROM Carts_3NF c\n",
    "  JOIN Transactions_3NF t\n",
    "    ON c.CartID = t.CartID\n",
    "  JOIN Users_3NF u\n",
    "    ON u.UserID = t.UserId\n",
    " WHERE SUBSTR(InvoiceDate, 6, 2) IN ('01','03','05','07','09','11')\n",
    "),\n",
    "color_location AS(\n",
    "SELECT p.Barcode\n",
    "  FROM Products_3NF p\n",
    "  JOIN Locations_3NF l\n",
    "    ON l.LocationID = p.LocationID\n",
    "  JOIN Colours_3NF c\n",
    "    ON c.ColourID = p.ColourID\n",
    " WHERE c.Colour = 'Black' AND l.StockCountry = 'South Africa'\n",
    "),\n",
    "totals AS(\n",
    "SELECT DISTINCT t.UserName, t.Total \n",
    "  FROM Transacts t\n",
    "  JOIN color_location cl\n",
    "    ON cl.Barcode = t.Barcode)\n",
    "SELECT SUM(Total)\n",
    "  FROM totals\n",
    " "
   ]
  },
  {
   "cell_type": "code",
   "execution_count": null,
   "metadata": {},
   "outputs": [],
   "source": []
  }
 ],
 "metadata": {
  "colab": {
   "collapsed_sections": [],
   "name": "SQL_Predict_Student_Notebook.ipynb",
   "provenance": []
  },
  "interpreter": {
   "hash": "6b5ebbc2c6bde2831bc6c0426f75aca8137ccfc69d329557556ed73faee126ae"
  },
  "kernelspec": {
   "display_name": "Python 3 (ipykernel)",
   "language": "python",
   "name": "python3"
  },
  "language_info": {
   "codemirror_mode": {
    "name": "ipython",
    "version": 3
   },
   "file_extension": ".py",
   "mimetype": "text/x-python",
   "name": "python",
   "nbconvert_exporter": "python",
   "pygments_lexer": "ipython3",
   "version": "3.9.17"
  }
 },
 "nbformat": 4,
 "nbformat_minor": 4
}
